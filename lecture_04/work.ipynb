{
 "cells": [
  {
   "cell_type": "code",
   "execution_count": null,
   "id": "f24ad26f-5a98-4df8-9ab1-b9efbeb4fb3b",
   "metadata": {},
   "outputs": [],
   "source": [
    "\n",
    "# ] add DelimitedFiles\n",
    "using DelimitedFiles"
   ]
  },
  {
   "cell_type": "code",
   "execution_count": null,
   "id": "a33fbf32-9463-47c5-94d7-c49d825c0ff7",
   "metadata": {},
   "outputs": [],
   "source": [
    "url = \"https://www.phys.uconn.edu/~rozman/Courses/P2200_25F/downloads/trinity-test.data\""
   ]
  },
  {
   "cell_type": "code",
   "execution_count": null,
   "id": "a9358b3c-885b-400e-b47a-a42868b4cfe5",
   "metadata": {},
   "outputs": [],
   "source": [
    "obsevations = download(url)"
   ]
  },
  {
   "cell_type": "code",
   "execution_count": null,
   "id": "d9a59a6c-7322-4afe-ba6b-a93ab71e0ee7",
   "metadata": {},
   "outputs": [],
   "source": [
    "dat = readdlm(obsevations, comments=true, comment_char='#')"
   ]
  },
  {
   "cell_type": "code",
   "execution_count": null,
   "id": "b3f1d203-606e-4959-9f0a-48eb0dd551a2",
   "metadata": {},
   "outputs": [],
   "source": [
    "\n",
    "time = dat[:, 1] "
   ]
  },
  {
   "cell_type": "code",
   "execution_count": null,
   "id": "7bdd4096-32d8-4536-92e9-36a30a359788",
   "metadata": {},
   "outputs": [],
   "source": [
    "radius = dat[:,2]"
   ]
  },
  {
   "cell_type": "code",
   "execution_count": null,
   "id": "1e538f1b-0745-4695-a216-95d5f08eee2c",
   "metadata": {},
   "outputs": [],
   "source": [
    "\n",
    "using PyPlot"
   ]
  },
  {
   "cell_type": "code",
   "execution_count": null,
   "id": "feb337eb-48ad-49b1-9ccf-d87b14c42100",
   "metadata": {},
   "outputs": [],
   "source": [
    "plot(time, radius)"
   ]
  },
  {
   "cell_type": "code",
   "execution_count": null,
   "id": "0d8e919c-2781-4a98-b7d3-11689c92391f",
   "metadata": {},
   "outputs": [],
   "source": [
    "\n",
    "loglog(time, radius, \"bo\", label=\"measurements\")\n",
    "grid(true)\n",
    "xlabel(\"time\")\n",
    "ylabel(\"radius\")\n",
    "title(\"Trinity Test Data\")\n",
    "legend()"
   ]
  },
  {
   "cell_type": "code",
   "execution_count": null,
   "id": "13adf99d-8e69-4748-ae0b-dd9f1e48fc04",
   "metadata": {},
   "outputs": [],
   "source": [
    "nm = length(time[3:end])"
   ]
  },
  {
   "cell_type": "code",
   "execution_count": null,
   "id": "929f5164-cb84-41a9-b3a8-286c989f97ea",
   "metadata": {},
   "outputs": [],
   "source": [
    "tlogbar = sum(log.(time[3:end]))/23"
   ]
  },
  {
   "cell_type": "code",
   "execution_count": null,
   "id": "2b1a2064-75e7-45f3-b427-03a086a79d4f",
   "metadata": {},
   "outputs": [],
   "source": [
    "rlogbar = sum(log.(radius[3:end]))/23"
   ]
  },
  {
   "cell_type": "code",
   "execution_count": null,
   "id": "1c373f14-e0ee-43ed-897b-ca2dafcd790e",
   "metadata": {},
   "outputs": [],
   "source": [
    "alphalogbar = rlogbar - (2/5)tlogbar"
   ]
  },
  {
   "cell_type": "code",
   "execution_count": null,
   "id": "6980bb3a-0e00-4d1a-9b94-ca3246ce49b3",
   "metadata": {},
   "outputs": [],
   "source": [
    "const scale = 1.0e6   # Extra factor due to measuring time in ms\n",
    "const rho = 1.2       # Density of air in kg/m^3 at T = 20 C\n",
    "const tnt = 4.184e12; # J per 1 kt of TNT"
   ]
  },
  {
   "cell_type": "code",
   "execution_count": null,
   "id": "136304ed-cb10-428d-87fc-5d735e2fd909",
   "metadata": {},
   "outputs": [],
   "source": [
    "alpha = exp(alphalogbar)\n",
    "println(\"α = $(round(alpha, sigdigits=4))\")"
   ]
  },
  {
   "cell_type": "code",
   "execution_count": null,
   "id": "a314650c-9eff-4abb-b21b-8b2140bc82d5",
   "metadata": {},
   "outputs": [],
   "source": [
    "\n",
    "energyJ = scale * alpha^5 * rho \n",
    "println(\"E = $(round(energyJ, sigdigits=3)) Joules\")"
   ]
  },
  {
   "cell_type": "code",
   "execution_count": null,
   "id": "40ad720c-953c-45bc-aaea-e8b70b348725",
   "metadata": {},
   "outputs": [],
   "source": [
    "energyT = energyJ / tnt  # Equivalent amount of TNT in kilotons\n",
    "println(\"E = $(round(energyT, sigdigits=3)) kilotons of TNT\")"
   ]
  },
  {
   "cell_type": "code",
   "execution_count": null,
   "id": "739edde9-6c62-4de0-a205-1a3f14b92aad",
   "metadata": {},
   "outputs": [],
   "source": [
    "rad(u, al) = al * u^(2/5) ;"
   ]
  },
  {
   "cell_type": "code",
   "execution_count": null,
   "id": "0892eaa7-a4af-4d35-952a-147d8ba6828c",
   "metadata": {},
   "outputs": [],
   "source": [
    "loglog(time, radius, \"bo\", label=\"measurements\")\n",
    "loglog(time, rad.(time, alpha),\"-\", label=\"theory\")\n",
    "grid(true)\n",
    "xlabel(\"time\")\n",
    "ylabel(\"radius\")\n",
    "title(\"Trinity Test Data\")\n",
    "legend()"
   ]
  },
  {
   "cell_type": "code",
   "execution_count": null,
   "id": "ed15ee51-28b7-415f-8982-0bcb66f5afe9",
   "metadata": {},
   "outputs": [],
   "source": []
  }
 ],
 "metadata": {
  "kernelspec": {
   "display_name": "Julia 1.11.6",
   "language": "julia",
   "name": "julia-1.11"
  },
  "language_info": {
   "file_extension": ".jl",
   "mimetype": "application/julia",
   "name": "julia",
   "version": "1.11.6"
  }
 },
 "nbformat": 4,
 "nbformat_minor": 5
}
