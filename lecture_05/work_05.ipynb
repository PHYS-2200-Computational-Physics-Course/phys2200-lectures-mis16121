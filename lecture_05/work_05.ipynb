{
 "cells": [
  {
   "cell_type": "code",
   "execution_count": null,
   "id": "8847875a-4d90-45d0-a7d1-0199d52453ee",
   "metadata": {},
   "outputs": [],
   "source": [
    "\"\"\"\n",
    "    myfib(n)\n",
    "\n",
    "Calculate Fibonacci number F_n using the recurrence relation\n",
    "F_1 = 1, F_2 = 1, and F_n = F_n-1 + F_n-2 for n > 2.\n",
    "\"\"\"\n",
    "function myfib(n)\n",
    "\n",
    "    fp = 1\n",
    "    if n == 1\n",
    "        return fp\n",
    "    end \n",
    "\n",
    "    fc = 1 \n",
    "    if n == 2 \n",
    "        return fc\n",
    "    end\n",
    "\n",
    "    for i = 3:n\n",
    "        fn = fc + fp\n",
    "        fp = fc\n",
    "        fc = fn\n",
    "    end\n",
    "\n",
    "    return fc\n",
    "end"
   ]
  },
  {
   "cell_type": "code",
   "execution_count": null,
   "id": "df7c248d-f6dc-48a9-beb8-7b5a65ae7abd",
   "metadata": {},
   "outputs": [],
   "source": [
    "?myfib"
   ]
  },
  {
   "cell_type": "code",
   "execution_count": null,
   "id": "ba94ba0e-c46b-45fb-b518-23ca918d68a1",
   "metadata": {},
   "outputs": [],
   "source": [
    "myfib.(1:10)"
   ]
  },
  {
   "cell_type": "code",
   "execution_count": null,
   "id": "2af6f68a-05a5-4fe8-b22f-2373104035e9",
   "metadata": {},
   "outputs": [],
   "source": [
    "\n",
    "function myfib1(n)\n",
    "    #basecase\n",
    "    if n == 1 \n",
    "        return 1\n",
    "    elseif n == 2 \n",
    "        return 1 \n",
    "    end\n",
    "    \n",
    "    return myfib1(n-1) + myfib1(n-2)\n",
    "end"
   ]
  },
  {
   "cell_type": "code",
   "execution_count": null,
   "id": "a6c3e0e9-a556-4c3b-827d-b3dc76ad715f",
   "metadata": {},
   "outputs": [],
   "source": [
    "myfib1.(1:10)"
   ]
  },
  {
   "cell_type": "code",
   "execution_count": null,
   "id": "1cb792f5-3a93-4dbd-ace5-8263c4bf244e",
   "metadata": {},
   "outputs": [],
   "source": [
    "\n",
    "@time myfib(50)"
   ]
  },
  {
   "cell_type": "code",
   "execution_count": null,
   "id": "21727092-ff1f-4e9b-a007-0bf9f96dbb2a",
   "metadata": {},
   "outputs": [],
   "source": [
    "@time myfib1(50)"
   ]
  },
  {
   "cell_type": "code",
   "execution_count": null,
   "id": "fdbd5188-36ef-4592-891c-6ec8c4ebd7b7",
   "metadata": {},
   "outputs": [],
   "source": []
  }
 ],
 "metadata": {
  "kernelspec": {
   "display_name": "Julia 1.11.6",
   "language": "julia",
   "name": "julia-1.11"
  },
  "language_info": {
   "file_extension": ".jl",
   "mimetype": "application/julia",
   "name": "julia",
   "version": "1.11.6"
  }
 },
 "nbformat": 4,
 "nbformat_minor": 5
}
