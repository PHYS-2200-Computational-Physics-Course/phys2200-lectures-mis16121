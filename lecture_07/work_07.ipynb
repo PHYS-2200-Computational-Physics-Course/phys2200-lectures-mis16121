{
 "cells": [
  {
   "cell_type": "code",
   "execution_count": null,
   "id": "66f4b6ff-90c8-4f03-be3d-084653f650c6",
   "metadata": {},
   "outputs": [],
   "source": [
    "\n",
    "\"\"\"\n",
    "    mylegendre(n, x)\n",
    "\n",
    "Calculate Legendre polynomial P_n(x) using the recurrence relation    \n",
    "(n+1)P_{n+1}(x) = (2*n+1)*x*P_n(x) - n*P_{n-1}(x), and P_0(x) = 1, P_1(x) = x\n",
    "\"\"\"\n",
    "function mylegendre(m, x)\n",
    "\n",
    "    pp = 1\n",
    "    if m == 0 \n",
    "        return pp\n",
    "    end\n",
    "\n",
    "    pc = x\n",
    "    if m == 1 \n",
    "        return pc\n",
    "    end\n",
    "\n",
    "    for n = 1:(m-1)\n",
    "       # pn = (2*n +1)/(n+1) * x * pc - n/(n+1) * pp\n",
    "       # pp = pc\n",
    "      #  pc = pn\n",
    "\n",
    "        pc, pp = (2*n +1)/(n+1) * x * pc - n/(n+1) * pp, pc\n",
    "    end\n",
    "    \n",
    "    return pc \n",
    "end"
   ]
  },
  {
   "cell_type": "code",
   "execution_count": null,
   "id": "ad7ba7a9-e647-47ae-b1e5-d68d4c46a1fe",
   "metadata": {},
   "outputs": [],
   "source": [
    "@show mylegendre(3, 0.0);   # must be 0\n",
    "@show mylegendre(3, -1.0);  # must be -1"
   ]
  },
  {
   "cell_type": "code",
   "execution_count": null,
   "id": "39a67c0d-967f-4edb-b447-25e6dba1e28d",
   "metadata": {},
   "outputs": [],
   "source": [
    "@time mylegendre(1, 1.0)"
   ]
  },
  {
   "cell_type": "code",
   "execution_count": null,
   "id": "5b79d438-c1ca-4ab1-b307-3826f16314ae",
   "metadata": {},
   "outputs": [],
   "source": [
    "@time mylegendre(51, -1.0)"
   ]
  },
  {
   "cell_type": "code",
   "execution_count": null,
   "id": "e5e4e87e-d4d6-43b5-a0da-ba0819d1809a",
   "metadata": {},
   "outputs": [],
   "source": [
    "np = 100\n",
    "x = range(-1.0, 1.0, np);"
   ]
  },
  {
   "cell_type": "code",
   "execution_count": null,
   "id": "ce43f584-b20f-4a0a-9639-ab79afa45d06",
   "metadata": {},
   "outputs": [],
   "source": [
    "using PyPlot"
   ]
  },
  {
   "cell_type": "code",
   "execution_count": null,
   "id": "58aa02bc-d5cc-4001-8c2b-5b8ecd875906",
   "metadata": {},
   "outputs": [],
   "source": [
    "for n = [2, 3, 5, 7]\n",
    "    plot(x, mylegendre.(n, x), label=L\"P_{%$n}(x)\")\n",
    "end \n",
    "\n",
    "grid(true)\n",
    "title(\"Legendre Polynomials\")\n",
    "xlabel(\"x\")\n",
    "ylabel(L\"P_n(x)\")\n",
    "legend();"
   ]
  },
  {
   "cell_type": "code",
   "execution_count": null,
   "id": "e0f1bcfb-0ea2-462d-a288-9db829293178",
   "metadata": {},
   "outputs": [],
   "source": []
  }
 ],
 "metadata": {
  "kernelspec": {
   "display_name": "Julia 1.11.6",
   "language": "julia",
   "name": "julia-1.11"
  },
  "language_info": {
   "file_extension": ".jl",
   "mimetype": "application/julia",
   "name": "julia",
   "version": "1.11.6"
  }
 },
 "nbformat": 4,
 "nbformat_minor": 5
}
