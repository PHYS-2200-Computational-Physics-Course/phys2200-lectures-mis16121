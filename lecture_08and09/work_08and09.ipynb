{
 "cells": [
  {
   "cell_type": "code",
   "execution_count": 6,
   "id": "cf355a77-3631-4385-bc2c-fc433db4cc22",
   "metadata": {},
   "outputs": [
    {
     "data": {
      "text/plain": [
       "mytrapezoids"
      ]
     },
     "execution_count": 6,
     "metadata": {},
     "output_type": "execute_result"
    }
   ],
   "source": [
    "\n",
    "\"\"\"\n",
    "    ans = mytrapezoids(fun, a, b, n)\n",
    "\n",
    "Numerically evaluate the integral int_a^b fun(x) dx using the\n",
    "trapezoidal rule: I = h/2*(f_1 + 2f_2 + ... + 2f_{n-1} + f_n),\n",
    "where h = (b - a)/(n - 1), x_i = a + (i - 1)*h, f_i = fun(x_i).\n",
    "\"\"\"\n",
    "function mytrapezoids(fun, a, b, n)\n",
    "    h = (b - a)/(n - 1) \n",
    "    s1 = fun(a) + fun(b) \n",
    "    s2 = 0.0\n",
    "    for i = 2:(n-1)\n",
    "        s2 += fun(a + h*(i-1))\n",
    "    end\n",
    "    return h/2 * (s1 + 2*s2) \n",
    "end"
   ]
  },
  {
   "cell_type": "code",
   "execution_count": 7,
   "id": "ad9de561-f877-4869-8314-5a4f755db54b",
   "metadata": {},
   "outputs": [
    {
     "name": "stdout",
     "output_type": "stream",
     "text": [
      "search: \u001b[0m\u001b[1mm\u001b[22m\u001b[0m\u001b[1my\u001b[22m\u001b[0m\u001b[1mt\u001b[22m\u001b[0m\u001b[1mr\u001b[22m\u001b[0m\u001b[1ma\u001b[22m\u001b[0m\u001b[1mp\u001b[22m\u001b[0m\u001b[1me\u001b[22m\u001b[0m\u001b[1mz\u001b[22m\u001b[0m\u001b[1mo\u001b[22m\u001b[0m\u001b[1mi\u001b[22m\u001b[0m\u001b[1md\u001b[22m\u001b[0m\u001b[1ms\u001b[22m\n",
      "\n"
     ]
    },
    {
     "data": {
      "text/latex": [
       "\\begin{verbatim}\n",
       "ans = mytrapezoids(fun, a, b, n)\n",
       "\\end{verbatim}\n",
       "Numerically evaluate the integral int\\emph{a\\^{}b fun(x) dx using the trapezoidal rule: I = h/2*(f}1 + 2f\\emph{2 + ... + 2f}\\{n-1\\} + f\\emph{n), where h = (b - a)/(n - 1), x}i = a + (i - 1)*h, f\\emph{i = fun(x}i).\n",
       "\n"
      ],
      "text/markdown": [
       "```\n",
       "ans = mytrapezoids(fun, a, b, n)\n",
       "```\n",
       "\n",
       "Numerically evaluate the integral int*a^b fun(x) dx using the trapezoidal rule: I = h/2*(f*1 + 2f*2 + ... + 2f*{n-1} + f*n), where h = (b - a)/(n - 1), x*i = a + (i - 1)*h, f*i = fun(x*i).\n"
      ],
      "text/plain": [
       "\u001b[36m  ans = mytrapezoids(fun, a, b, n)\u001b[39m\n",
       "\n",
       "  Numerically evaluate the integral int\u001b[4ma^b fun(x) dx using the trapezoidal\u001b[24m\n",
       "  \u001b[4mrule: I = h/2*(f\u001b[24m1 + 2f\u001b[4m2 + ... + 2f\u001b[24m{n-1} + f\u001b[4mn), where h = (b - a)/(n - 1), x\u001b[24mi\n",
       "  = a + (i - 1)*h, f\u001b[4mi = fun(x\u001b[24mi)."
      ]
     },
     "execution_count": 7,
     "metadata": {},
     "output_type": "execute_result"
    }
   ],
   "source": [
    "\n",
    "?mytrapezoids"
   ]
  },
  {
   "cell_type": "code",
   "execution_count": 8,
   "id": "3392c413-dcce-4bbb-95e5-c49b60b941fc",
   "metadata": {},
   "outputs": [
    {
     "data": {
      "text/plain": [
       "20"
      ]
     },
     "execution_count": 8,
     "metadata": {},
     "output_type": "execute_result"
    }
   ],
   "source": [
    "\n",
    "fun1(x) = 1/x\n",
    "a1 = 1.0\n",
    "b1 = 2.0\n",
    "exact1 = log(2)\n",
    "np1 = 20"
   ]
  },
  {
   "cell_type": "code",
   "execution_count": 9,
   "id": "4e9f50c8-c918-488f-ab2c-ca3773e83d13",
   "metadata": {},
   "outputs": [
    {
     "data": {
      "text/plain": [
       "0.6933202508885106"
      ]
     },
     "execution_count": 9,
     "metadata": {},
     "output_type": "execute_result"
    }
   ],
   "source": [
    "res1 = mytrapezoids(fun1, a1, b1, np1)"
   ]
  },
  {
   "cell_type": "code",
   "execution_count": 10,
   "id": "27262018-14ba-423d-b05d-480d5e7c4f4b",
   "metadata": {},
   "outputs": [
    {
     "data": {
      "text/plain": [
       "0.0002"
      ]
     },
     "execution_count": 10,
     "metadata": {},
     "output_type": "execute_result"
    }
   ],
   "source": [
    "round(abs(res1 - exact1), sigdigits=1)"
   ]
  },
  {
   "cell_type": "code",
   "execution_count": 11,
   "id": "c13bb1c4-0a90-49f0-bd56-d8ff9874d13b",
   "metadata": {},
   "outputs": [
    {
     "data": {
      "text/plain": [
       "100"
      ]
     },
     "execution_count": 11,
     "metadata": {},
     "output_type": "execute_result"
    }
   ],
   "source": [
    "\n",
    "fun2(x) = exp(x)\n",
    "a2 = 0.0\n",
    "b2 = 1.0\n",
    "exact2 = exp(1) - 1 \n",
    "np2 = 100\n"
   ]
  },
  {
   "cell_type": "code",
   "execution_count": 12,
   "id": "cc7eb636-a504-47a4-8fb3-12f237ae9f15",
   "metadata": {},
   "outputs": [
    {
     "data": {
      "text/plain": [
       "1.718296438183449"
      ]
     },
     "execution_count": 12,
     "metadata": {},
     "output_type": "execute_result"
    }
   ],
   "source": [
    "\n",
    "res2 = mytrapezoids(fun2, a2, b2, np2)"
   ]
  },
  {
   "cell_type": "code",
   "execution_count": 13,
   "id": "7f12a274-3798-4feb-ba4b-a1d4538338d5",
   "metadata": {},
   "outputs": [
    {
     "data": {
      "text/plain": [
       "1.0e-5"
      ]
     },
     "execution_count": 13,
     "metadata": {},
     "output_type": "execute_result"
    }
   ],
   "source": [
    "round(abs(res2 - exact2), sigdigits=1)"
   ]
  },
  {
   "cell_type": "code",
   "execution_count": 14,
   "id": "77ebffb1-82b5-4e24-a924-02970db69fda",
   "metadata": {},
   "outputs": [
    {
     "data": {
      "text/plain": [
       "2.0"
      ]
     },
     "execution_count": 14,
     "metadata": {},
     "output_type": "execute_result"
    }
   ],
   "source": [
    "\n",
    "fun3(x) = sin(x)\n",
    "a3 = 0.0\n",
    "b3 = pi\n",
    "exact3 = 2.0\n"
   ]
  },
  {
   "cell_type": "code",
   "execution_count": 15,
   "id": "2215193a-054d-49a0-a8eb-b9ce3d7ee2ee",
   "metadata": {},
   "outputs": [],
   "source": [
    "ndp = 10\n",
    "hh = zeros(ndp) #create an array of ndp elements\n",
    "abserrors = zeros(ndp);"
   ]
  },
  {
   "cell_type": "code",
   "execution_count": 16,
   "id": "25ffacab-6e93-4967-862b-0f757141ae85",
   "metadata": {},
   "outputs": [],
   "source": [
    "\n",
    "for i = 1:ndp\n",
    "    np = 2^i + 1 \n",
    "    hh[i] = (b3 - a3)/(np - 1)\n",
    "    abserrors[i] = abs(mytrapezoids(fun3, a3, b3, np) - exact3)\n",
    "end "
   ]
  },
  {
   "cell_type": "code",
   "execution_count": 17,
   "id": "24d37057-96e5-4727-8356-7eb58ad0dd40",
   "metadata": {},
   "outputs": [
    {
     "data": {
      "text/plain": [
       "10-element Vector{Float64}:\n",
       " 0.42920367320510344\n",
       " 0.1038811020629602\n",
       " 0.025768398054449193\n",
       " 0.006429656227660452\n",
       " 0.0016066390298559163\n",
       " 0.00040161135996252817\n",
       " 0.00010039981579623714\n",
       " 2.5099764946912018e-5\n",
       " 6.274929423177866e-6\n",
       " 1.5687316166079768e-6"
      ]
     },
     "execution_count": 17,
     "metadata": {},
     "output_type": "execute_result"
    }
   ],
   "source": [
    "abserrors"
   ]
  },
  {
   "cell_type": "code",
   "execution_count": 18,
   "id": "6d9d297f-b379-4af2-ad62-81f563c8d92a",
   "metadata": {},
   "outputs": [],
   "source": [
    "using PyPlot"
   ]
  },
  {
   "cell_type": "code",
   "execution_count": 19,
   "id": "82dd5d3d-2753-48df-8f1d-ab3b1c427816",
   "metadata": {},
   "outputs": [
    {
     "data": {
      "image/png": "[encoded data removed]",
      "text/plain": [
       "Figure(PyObject <Figure size 640x480 with 1 Axes>)"
      ]
     },
     "metadata": {},
     "output_type": "display_data"
    }
   ],
   "source": [
    "\n",
    "loglog(hh, abserrors, marker=\".\", label=\"numerical experiment\")\n",
    "loglog(hh, hh.^2, linestyle=\"dashed\", label = L\"h^2\")\n",
    "grid(true) \n",
    "xlabel(\"h\")\n",
    "ylabel(\"absolute error\")\n",
    "title(\"Error of Trapezoidal Formula\")\n",
    "legend();"
   ]
  },
  {
   "cell_type": "code",
   "execution_count": 20,
   "id": "4d9f7b44-d4bf-4879-b144-b740f0bb6097",
   "metadata": {},
   "outputs": [
    {
     "data": {
      "text/plain": [
       "mytrapezoids2 (generic function with 1 method)"
      ]
     },
     "execution_count": 20,
     "metadata": {},
     "output_type": "execute_result"
    }
   ],
   "source": [
    "\n",
    "function mytrapezoids2(fv,h) \n",
    "    return h/2 * (fv[1]+fv[end]+2*sum(fv[2:(end-1)]))\n",
    "end "
   ]
  },
  {
   "cell_type": "code",
   "execution_count": 24,
   "id": "7884dd00-e9cb-4da9-ac21-cb7af6e8fa4f",
   "metadata": {},
   "outputs": [
    {
     "data": {
      "text/plain": [
       "0.0002"
      ]
     },
     "execution_count": 24,
     "metadata": {},
     "output_type": "execute_result"
    }
   ],
   "source": [
    "\n",
    "x1 = range(a1, b1, np1) \n",
    "fv1 = fun1.(x1)\n",
    "h1 = x1[2]-x1[1]\n",
    "round(abs(mytrapezoids2(fv1,h1) - exact1), sigdigits=1)"
   ]
  },
  {
   "cell_type": "code",
   "execution_count": null,
   "id": "984ca8ea-7cad-4f67-8875-4f07cf831069",
   "metadata": {},
   "outputs": [],
   "source": []
  },
  {
   "cell_type": "code",
   "execution_count": 25,
   "id": "31f3c45d-b9d0-4569-b7a5-c13ed6cdc38e",
   "metadata": {},
   "outputs": [
    {
     "data": {
      "text/plain": [
       "simpsons2 (generic function with 1 method)"
      ]
     },
     "execution_count": 25,
     "metadata": {},
     "output_type": "execute_result"
    }
   ],
   "source": [
    "function simpsons2(fun, a, b, n)\n",
    "    x = range(a, b, n)\n",
    "    fv = fun.(x)\n",
    "    h = x[2]-x[1]\n",
    "    th=mytrapezoids2(fv, h)\n",
    "    t2h=mytrapezoids2(fv[1:2:end], 2*h)\n",
    "    simp = 1/3 * (4*th - t2h)\n",
    "    return simp\n",
    "end \n",
    "    "
   ]
  },
  {
   "cell_type": "code",
   "execution_count": 27,
   "id": "e9ed76f0-5773-49a8-a90d-15d9d3ce9407",
   "metadata": {},
   "outputs": [
    {
     "data": {
      "text/plain": [
       "3.0e-7"
      ]
     },
     "execution_count": 27,
     "metadata": {},
     "output_type": "execute_result"
    }
   ],
   "source": [
    "\n",
    "nps1 = 19\n",
    "round(abs(simpsons2(fun1, a1, b1, nps1) - exact1), sigdigits=1)\n"
   ]
  },
  {
   "cell_type": "code",
   "execution_count": 28,
   "id": "634bb34c-ca8d-41bd-ae43-1551c21857f8",
   "metadata": {},
   "outputs": [
    {
     "data": {
      "text/plain": [
       "1.0e-10"
      ]
     },
     "execution_count": 28,
     "metadata": {},
     "output_type": "execute_result"
    }
   ],
   "source": [
    "\n",
    "nps2 = 99\n",
    "round(abs(simpsons2(fun2, a2, b2, nps2) - exact2), sigdigits=1)"
   ]
  },
  {
   "cell_type": "code",
   "execution_count": 32,
   "id": "eb27a85d-4dd8-4e76-94b2-cd6ab7337a7a",
   "metadata": {},
   "outputs": [
    {
     "data": {
      "text/plain": [
       "3.0e-7"
      ]
     },
     "execution_count": 32,
     "metadata": {},
     "output_type": "execute_result"
    }
   ],
   "source": [
    "\n",
    "nn = 500\n",
    "round(abs(mytrapezoids(fun1, a1, b1, nn) - exact1), sigdigits=1)"
   ]
  },
  {
   "cell_type": "code",
   "execution_count": 42,
   "id": "c92bf84a-eaf7-45e9-babd-1ba4e21d1e47",
   "metadata": {},
   "outputs": [
    {
     "data": {
      "text/plain": [
       "test (generic function with 1 method)"
      ]
     },
     "execution_count": 42,
     "metadata": {},
     "output_type": "execute_result"
    }
   ],
   "source": [
    "function test(n)\n",
    "    if iseven(n) || n <= 3\n",
    "        return Inf\n",
    "    end\n",
    "    return 0\n",
    "end"
   ]
  },
  {
   "cell_type": "code",
   "execution_count": 43,
   "id": "5d2a289b-e8bf-4f6b-81d2-6349f8cfea2d",
   "metadata": {},
   "outputs": [
    {
     "data": {
      "text/plain": [
       "Inf"
      ]
     },
     "execution_count": 43,
     "metadata": {},
     "output_type": "execute_result"
    }
   ],
   "source": [
    "test(3)"
   ]
  },
  {
   "cell_type": "code",
   "execution_count": null,
   "id": "29d8573d-98ac-460c-9c4e-17214b79009a",
   "metadata": {},
   "outputs": [],
   "source": []
  }
 ],
 "metadata": {
  "kernelspec": {
   "display_name": "Julia 1.11.6",
   "language": "julia",
   "name": "julia-1.11"
  },
  "language_info": {
   "file_extension": ".jl",
   "mimetype": "application/julia",
   "name": "julia",
   "version": "1.11.6"
  }
 },
 "nbformat": 4,
 "nbformat_minor": 5
}
