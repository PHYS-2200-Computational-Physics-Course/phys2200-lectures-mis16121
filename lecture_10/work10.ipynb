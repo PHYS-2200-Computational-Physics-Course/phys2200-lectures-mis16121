{
 "cells": [
  {
   "cell_type": "code",
   "execution_count": 7,
   "id": "56906848-32a9-419a-890e-a3aa130171f5",
   "metadata": {},
   "outputs": [
    {
     "data": {
      "text/plain": [
       "mybasel (generic function with 1 method)"
      ]
     },
     "execution_count": 7,
     "metadata": {},
     "output_type": "execute_result"
    }
   ],
   "source": [
    "\"\"\"\n",
    "s = mybasel(N)\n",
    "\n",
    "Calculate finite bessel sum\n",
    "\"\"\"\n",
    "\n",
    "function mybasel(N)\n",
    "    s=0.0\n",
    "    for n = 1:N\n",
    "        s += 1/n^2\n",
    "    end\n",
    "    return s\n",
    "end"
   ]
  },
  {
   "cell_type": "code",
   "execution_count": 8,
   "id": "d3d72872-3399-4b76-827d-29ccea74725b",
   "metadata": {},
   "outputs": [
    {
     "data": {
      "text/plain": [
       "0.0005"
      ]
     },
     "execution_count": 8,
     "metadata": {},
     "output_type": "execute_result"
    }
   ],
   "source": [
    "round(abs(mybasel(2000)-pi^2/6), sigdigits=1)"
   ]
  },
  {
   "cell_type": "code",
   "execution_count": 9,
   "id": "4acce79a-3c60-43b7-9f06-3fb3f7dfc02c",
   "metadata": {},
   "outputs": [
    {
     "data": {
      "text/plain": [
       "myrichardson (generic function with 1 method)"
      ]
     },
     "execution_count": 9,
     "metadata": {},
     "output_type": "execute_result"
    }
   ],
   "source": [
    "\n",
    "function myrichardson(N)\n",
    "    s1 = mybasel(N)\n",
    "    s2 = mybasel(2*N)\n",
    "    return 2*s2 - s1\n",
    "end"
   ]
  },
  {
   "cell_type": "code",
   "execution_count": 10,
   "id": "7c49706f-b061-4246-a923-eda6223a3504",
   "metadata": {},
   "outputs": [
    {
     "data": {
      "text/plain": [
       "2.0e-7"
      ]
     },
     "execution_count": 10,
     "metadata": {},
     "output_type": "execute_result"
    }
   ],
   "source": [
    "round(abs(myrichardson(1000) - pi^2/6), sigdigits=1)"
   ]
  },
  {
   "cell_type": "code",
   "execution_count": 15,
   "id": "0abf3160-af3c-4a00-b73b-463fae9f2fc9",
   "metadata": {},
   "outputs": [
    {
     "data": {
      "text/plain": [
       "2.0e-7"
      ]
     },
     "execution_count": 15,
     "metadata": {},
     "output_type": "execute_result"
    }
   ],
   "source": [
    "round(abs(mybasel(5000000) - pi^2/6), sigdigits=1)"
   ]
  },
  {
   "cell_type": "code",
   "execution_count": 16,
   "id": "dae7fac2-086f-49d6-a92a-32604e3955fe",
   "metadata": {},
   "outputs": [
    {
     "name": "stderr",
     "output_type": "stream",
     "text": [
      "\u001b[32m\u001b[1m    Updating\u001b[22m\u001b[39m registry at `~/.julia/registries/General.toml`\n",
      "\u001b[32m\u001b[1m   Resolving\u001b[22m\u001b[39m package versions...\n",
      "\u001b[32m\u001b[1m   Installed\u001b[22m\u001b[39m OrderedCollections ─ v1.8.1\n",
      "\u001b[32m\u001b[1m   Installed\u001b[22m\u001b[39m QuadGK ───────────── v2.11.2\n",
      "\u001b[32m\u001b[1m   Installed\u001b[22m\u001b[39m DataStructures ───── v0.19.1\n",
      "\u001b[32m\u001b[1m    Updating\u001b[22m\u001b[39m `/workspaces/phys2200-lectures-mis16121/Project.toml`\n",
      "  \u001b[90m[1fd47b50] \u001b[39m\u001b[92m+ QuadGK v2.11.2\u001b[39m\n",
      "\u001b[32m\u001b[1m    Updating\u001b[22m\u001b[39m `/workspaces/phys2200-lectures-mis16121/Manifest.toml`\n",
      "  \u001b[90m[864edb3b] \u001b[39m\u001b[92m+ DataStructures v0.19.1\u001b[39m\n",
      "  \u001b[90m[bac558e1] \u001b[39m\u001b[92m+ OrderedCollections v1.8.1\u001b[39m\n",
      "  \u001b[90m[1fd47b50] \u001b[39m\u001b[92m+ QuadGK v2.11.2\u001b[39m\n",
      "\u001b[92m\u001b[1mPrecompiling\u001b[22m\u001b[39m project...\n",
      "   2100.2 ms\u001b[32m  ✓ \u001b[39mDelimitedFiles\n",
      "   2235.1 ms\u001b[32m  ✓ \u001b[39m\u001b[90mOrderedCollections\u001b[39m\n",
      "   1739.2 ms\u001b[32m  ✓ \u001b[39m\u001b[90mDataStructures\u001b[39m\n",
      "    794.0 ms\u001b[32m  ✓ \u001b[39mQuadGK\n",
      "  4 dependencies successfully precompiled in 8 seconds. 52 already precompiled.\n"
     ]
    }
   ],
   "source": [
    "] add QuadGK"
   ]
  },
  {
   "cell_type": "code",
   "execution_count": 17,
   "id": "e9c47586-9a8d-44de-a35b-4f780edf12ff",
   "metadata": {},
   "outputs": [],
   "source": [
    "\n",
    "using QuadGK"
   ]
  },
  {
   "cell_type": "code",
   "execution_count": 18,
   "id": "2d810fc0-8d3f-43f1-a140-413923e72f35",
   "metadata": {},
   "outputs": [
    {
     "data": {
      "text/plain": [
       "fun1 (generic function with 1 method)"
      ]
     },
     "execution_count": 18,
     "metadata": {},
     "output_type": "execute_result"
    }
   ],
   "source": [
    "fun1(x) = 1/sqrt(x)"
   ]
  },
  {
   "cell_type": "code",
   "execution_count": 21,
   "id": "2bec2039-3b3d-4f5a-8350-253dc33b74a4",
   "metadata": {},
   "outputs": [
    {
     "data": {
      "text/plain": [
       "2.0"
      ]
     },
     "execution_count": 21,
     "metadata": {},
     "output_type": "execute_result"
    }
   ],
   "source": [
    "round(quadgk(fun1, 0, 1)[1], sigdigits=5)"
   ]
  },
  {
   "cell_type": "code",
   "execution_count": 22,
   "id": "22d40f87-9911-4423-9539-7132022289e6",
   "metadata": {},
   "outputs": [
    {
     "data": {
      "text/plain": [
       "fun2 (generic function with 1 method)"
      ]
     },
     "execution_count": 22,
     "metadata": {},
     "output_type": "execute_result"
    }
   ],
   "source": [
    "fun2(x)=exp(-x) * log(x)"
   ]
  },
  {
   "cell_type": "code",
   "execution_count": 25,
   "id": "965f01fa-b697-4ab6-bcdb-f54643665bc4",
   "metadata": {},
   "outputs": [
    {
     "data": {
      "text/plain": [
       "-0.57722"
      ]
     },
     "execution_count": 25,
     "metadata": {},
     "output_type": "execute_result"
    }
   ],
   "source": [
    "round(quadgk(fun2, 0, Inf)[1], sigdigits=5)"
   ]
  },
  {
   "cell_type": "code",
   "execution_count": null,
   "id": "0d2fb63c-1652-4201-a348-858c4a1e722d",
   "metadata": {},
   "outputs": [],
   "source": []
  }
 ],
 "metadata": {
  "kernelspec": {
   "display_name": "Julia 1.11.6",
   "language": "julia",
   "name": "julia-1.11"
  },
  "language_info": {
   "file_extension": ".jl",
   "mimetype": "application/julia",
   "name": "julia",
   "version": "1.11.6"
  }
 },
 "nbformat": 4,
 "nbformat_minor": 5
}
