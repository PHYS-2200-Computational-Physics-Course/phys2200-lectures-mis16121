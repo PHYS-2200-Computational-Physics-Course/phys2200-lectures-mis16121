{
 "cells": [
  {
   "cell_type": "markdown",
   "id": "5e248ec2-6a62-4650-b06a-2aebd02acb1b",
   "metadata": {},
   "source": [
    "# Hubble "
   ]
  },
  {
   "cell_type": "code",
   "execution_count": null,
   "id": "48997b98-12ae-4445-bfad-210f3472123a",
   "metadata": {},
   "outputs": [],
   "source": [
    "#data from Vizier (there are mirrors if database is down) Package DataFrames"
   ]
  },
  {
   "cell_type": "code",
   "execution_count": 1,
   "id": "e46110f9-4ef8-4cac-9a07-eb928c7eb612",
   "metadata": {},
   "outputs": [
    {
     "name": "stderr",
     "output_type": "stream",
     "text": [
      "\u001b[32m\u001b[1m    Updating\u001b[22m\u001b[39m registry at `~/.julia/registries/General.toml`\n",
      "\u001b[32m\u001b[1m   Resolving\u001b[22m\u001b[39m package versions...\n",
      "\u001b[32m\u001b[1m   Installed\u001b[22m\u001b[39m DataAPI ───────────── v1.16.0\n",
      "\u001b[32m\u001b[1m   Installed\u001b[22m\u001b[39m Crayons ───────────── v4.1.1\n",
      "\u001b[32m\u001b[1m   Installed\u001b[22m\u001b[39m SentinelArrays ────── v1.4.8\n",
      "\u001b[32m\u001b[1m   Installed\u001b[22m\u001b[39m PooledArrays ──────── v1.4.3\n",
      "\u001b[32m\u001b[1m   Installed\u001b[22m\u001b[39m Tables ────────────── v1.12.1\n",
      "\u001b[32m\u001b[1m   Installed\u001b[22m\u001b[39m TableTraits ───────── v1.0.1\n",
      "\u001b[32m\u001b[1m   Installed\u001b[22m\u001b[39m InlineStrings ─────── v1.4.5\n",
      "\u001b[32m\u001b[1m   Installed\u001b[22m\u001b[39m DataValueInterfaces ─ v1.0.0\n",
      "\u001b[32m\u001b[1m   Installed\u001b[22m\u001b[39m Missings ──────────── v1.2.0\n",
      "\u001b[32m\u001b[1m   Installed\u001b[22m\u001b[39m InvertedIndices ───── v1.3.1\n",
      "\u001b[32m\u001b[1m   Installed\u001b[22m\u001b[39m StringManipulation ── v0.4.1\n",
      "\u001b[32m\u001b[1m   Installed\u001b[22m\u001b[39m PrettyTables ──────── v3.1.0\n",
      "\u001b[32m\u001b[1m   Installed\u001b[22m\u001b[39m SortingAlgorithms ─── v1.2.2\n",
      "\u001b[32m\u001b[1m   Installed\u001b[22m\u001b[39m DataFrames ────────── v1.8.1\n",
      "\u001b[32m\u001b[1m    Updating\u001b[22m\u001b[39m `/workspaces/phys2200-lectures-mis16121/Project.toml`\n",
      "  \u001b[90m[a93c6f00] \u001b[39m\u001b[92m+ DataFrames v1.8.1\u001b[39m\n",
      "\u001b[32m\u001b[1m    Updating\u001b[22m\u001b[39m `/workspaces/phys2200-lectures-mis16121/Manifest.toml`\n",
      "  \u001b[90m[a8cc5b0e] \u001b[39m\u001b[92m+ Crayons v4.1.1\u001b[39m\n",
      "  \u001b[90m[9a962f9c] \u001b[39m\u001b[92m+ DataAPI v1.16.0\u001b[39m\n",
      "  \u001b[90m[a93c6f00] \u001b[39m\u001b[92m+ DataFrames v1.8.1\u001b[39m\n",
      "  \u001b[90m[e2d170a0] \u001b[39m\u001b[92m+ DataValueInterfaces v1.0.0\u001b[39m\n",
      "  \u001b[90m[842dd82b] \u001b[39m\u001b[92m+ InlineStrings v1.4.5\u001b[39m\n",
      "  \u001b[90m[41ab1584] \u001b[39m\u001b[92m+ InvertedIndices v1.3.1\u001b[39m\n",
      "  \u001b[90m[e1d29d7a] \u001b[39m\u001b[92m+ Missings v1.2.0\u001b[39m\n",
      "  \u001b[90m[2dfb63ee] \u001b[39m\u001b[92m+ PooledArrays v1.4.3\u001b[39m\n",
      "  \u001b[90m[08abe8d2] \u001b[39m\u001b[92m+ PrettyTables v3.1.0\u001b[39m\n",
      "  \u001b[90m[91c51154] \u001b[39m\u001b[92m+ SentinelArrays v1.4.8\u001b[39m\n",
      "  \u001b[90m[a2af1166] \u001b[39m\u001b[92m+ SortingAlgorithms v1.2.2\u001b[39m\n",
      "  \u001b[90m[892a3eda] \u001b[39m\u001b[92m+ StringManipulation v0.4.1\u001b[39m\n",
      "  \u001b[90m[3783bdb8] \u001b[39m\u001b[92m+ TableTraits v1.0.1\u001b[39m\n",
      "  \u001b[90m[bd369af6] \u001b[39m\u001b[92m+ Tables v1.12.1\u001b[39m\n",
      "\u001b[92m\u001b[1mPrecompiling\u001b[22m\u001b[39m project...\n",
      "   3860.0 ms\u001b[32m  ✓ \u001b[39m\u001b[90mDataValueInterfaces\u001b[39m\n",
      "   3430.8 ms\u001b[32m  ✓ \u001b[39m\u001b[90mInvertedIndices\u001b[39m\n",
      "   3428.2 ms\u001b[32m  ✓ \u001b[39m\u001b[90mInlineStrings\u001b[39m\n",
      "    837.6 ms\u001b[32m  ✓ \u001b[39m\u001b[90mDataAPI\u001b[39m\n",
      "    939.3 ms\u001b[32m  ✓ \u001b[39m\u001b[90mTableTraits\u001b[39m\n",
      "   1213.9 ms\u001b[32m  ✓ \u001b[39m\u001b[90mSortingAlgorithms\u001b[39m\n",
      "   3002.8 ms\u001b[32m  ✓ \u001b[39m\u001b[90mCrayons\u001b[39m\n",
      "   1429.1 ms\u001b[32m  ✓ \u001b[39m\u001b[90mInlineStrings → ParsersExt\u001b[39m\n",
      "   3999.6 ms\u001b[32m  ✓ \u001b[39m\u001b[90mSentinelArrays\u001b[39m\n",
      "   1024.9 ms\u001b[32m  ✓ \u001b[39m\u001b[90mPooledArrays\u001b[39m\n",
      "   1092.4 ms\u001b[32m  ✓ \u001b[39m\u001b[90mMissings\u001b[39m\n",
      "   1387.8 ms\u001b[32m  ✓ \u001b[39m\u001b[90mTables\u001b[39m\n",
      "   4770.8 ms\u001b[32m  ✓ \u001b[39m\u001b[90mStringManipulation\u001b[39m\n",
      "    822.7 ms\u001b[32m  ✓ \u001b[39m\u001b[90mRecursiveArrayTools → RecursiveArrayToolsTablesExt\u001b[39m\n",
      "  46647.7 ms\u001b[32m  ✓ \u001b[39m\u001b[90mPrettyTables\u001b[39m\n",
      "   1512.0 ms\u001b[32m  ✓ \u001b[39m\u001b[90mSymbolicIndexingInterface → SymbolicIndexingInterfacePrettyTablesExt\u001b[39m\n",
      "  67833.5 ms\u001b[32m  ✓ \u001b[39mDataFrames\n",
      "  17 dependencies successfully precompiled in 134 seconds. 133 already precompiled.\n"
     ]
    }
   ],
   "source": [
    "] add DataFrames"
   ]
  },
  {
   "cell_type": "code",
   "execution_count": 2,
   "id": "a6ec75ad-52c9-47d2-bd13-72c7fa927e96",
   "metadata": {},
   "outputs": [
    {
     "name": "stderr",
     "output_type": "stream",
     "text": [
      "\u001b[32m\u001b[1m   Resolving\u001b[22m\u001b[39m package versions...\n",
      "\u001b[32m\u001b[1m   Installed\u001b[22m\u001b[39m WorkerUtilities ──── v1.6.1\n",
      "\u001b[32m\u001b[1m   Installed\u001b[22m\u001b[39m CodecZlib ────────── v0.7.8\n",
      "\u001b[32m\u001b[1m   Installed\u001b[22m\u001b[39m WeakRefStrings ───── v1.4.2\n",
      "\u001b[32m\u001b[1m   Installed\u001b[22m\u001b[39m FilePathsBase ────── v0.9.24\n",
      "\u001b[32m\u001b[1m   Installed\u001b[22m\u001b[39m TranscodingStreams ─ v0.11.3\n",
      "\u001b[32m\u001b[1m   Installed\u001b[22m\u001b[39m CSV ──────────────── v0.10.15\n",
      "\u001b[32m\u001b[1m    Updating\u001b[22m\u001b[39m `/workspaces/phys2200-lectures-mis16121/Project.toml`\n",
      "  \u001b[90m[336ed68f] \u001b[39m\u001b[92m+ CSV v0.10.15\u001b[39m\n",
      "\u001b[32m\u001b[1m    Updating\u001b[22m\u001b[39m `/workspaces/phys2200-lectures-mis16121/Manifest.toml`\n",
      "  \u001b[90m[336ed68f] \u001b[39m\u001b[92m+ CSV v0.10.15\u001b[39m\n",
      "  \u001b[90m[944b1d66] \u001b[39m\u001b[92m+ CodecZlib v0.7.8\u001b[39m\n",
      "  \u001b[90m[48062228] \u001b[39m\u001b[92m+ FilePathsBase v0.9.24\u001b[39m\n",
      "  \u001b[90m[3bb67fe8] \u001b[39m\u001b[92m+ TranscodingStreams v0.11.3\u001b[39m\n",
      "  \u001b[90m[ea10d353] \u001b[39m\u001b[92m+ WeakRefStrings v1.4.2\u001b[39m\n",
      "  \u001b[90m[76eceee3] \u001b[39m\u001b[92m+ WorkerUtilities v1.6.1\u001b[39m\n",
      "\u001b[92m\u001b[1mPrecompiling\u001b[22m\u001b[39m project...\n",
      "   1183.2 ms\u001b[32m  ✓ \u001b[39m\u001b[90mWorkerUtilities\u001b[39m\n",
      "   1295.7 ms\u001b[32m  ✓ \u001b[39m\u001b[90mTranscodingStreams\u001b[39m\n",
      "   2166.7 ms\u001b[32m  ✓ \u001b[39m\u001b[90mFilePathsBase\u001b[39m\n",
      "   1099.6 ms\u001b[32m  ✓ \u001b[39m\u001b[90mCodecZlib\u001b[39m\n",
      "   1859.8 ms\u001b[32m  ✓ \u001b[39m\u001b[90mWeakRefStrings\u001b[39m\n",
      "    859.9 ms\u001b[32m  ✓ \u001b[39m\u001b[90mFilePathsBase → FilePathsBaseMmapExt\u001b[39m\n",
      "   1721.4 ms\u001b[32m  ✓ \u001b[39m\u001b[90mFilePathsBase → FilePathsBaseTestExt\u001b[39m\n",
      "  22248.9 ms\u001b[32m  ✓ \u001b[39mCSV\n",
      "  8 dependencies successfully precompiled in 26 seconds. 150 already precompiled.\n"
     ]
    }
   ],
   "source": [
    "] add CSV"
   ]
  },
  {
   "cell_type": "code",
   "execution_count": 3,
   "id": "5ec45195-c98d-4722-a9da-4dc8cce7f711",
   "metadata": {},
   "outputs": [],
   "source": [
    "using DataFrames\n",
    "using CSV \n",
    "using PyPlot"
   ]
  },
  {
   "cell_type": "code",
   "execution_count": 4,
   "id": "22f1bfa2-f670-46a7-add3-326b04ded722",
   "metadata": {},
   "outputs": [
    {
     "data": {
      "text/plain": [
       "\"https://vizier.u-strasbg.fr/viz-bin/asu-txt?-source=J/ApJ/716/712/tableb2&-out=SN&-out=zCMB&-out=mu\""
      ]
     },
     "execution_count": 4,
     "metadata": {},
     "output_type": "execute_result"
    }
   ],
   "source": [
    "url = \"https://vizier.u-strasbg.fr/viz-bin/asu-txt?-source=J/ApJ/716/712/tableb2&-out=SN&-out=zCMB&-out=mu\""
   ]
  },
  {
   "cell_type": "code",
   "execution_count": 6,
   "id": "f4abec44-5fdb-441f-8589-acb4263052e1",
   "metadata": {},
   "outputs": [],
   "source": [
    "catalog = download(url);"
   ]
  },
  {
   "cell_type": "code",
   "execution_count": 7,
   "id": "f678e9be-fe76-4aec-b07d-e92a01209604",
   "metadata": {},
   "outputs": [
    {
     "data": {
      "text/html": [
       "<div><div style = \"float: left;\"><span>721×3 DataFrame</span></div><div style = \"float: right; font-style: italic;\"><span>696 rows omitted</span></div><div style = \"clear: both;\"></div></div><div class = \"data-frame\" style = \"overflow-x: scroll;\"><table class = \"data-frame\" style = \"margin-bottom: 6px;\"><thead><tr class = \"columnLabelRow\"><th class = \"stubheadLabel\" style = \"font-weight: bold; text-align: right;\">Row</th><th style = \"text-align: left;\">name</th><th style = \"text-align: left;\">redshift</th><th style = \"text-align: left;\">modulus</th></tr><tr class = \"columnLabelRow\"><th class = \"stubheadLabel\" style = \"font-weight: bold; text-align: right;\"></th><th title = \"String\" style = \"text-align: left;\">String</th><th title = \"Union{Missing, Float64}\" style = \"text-align: left;\">Float64?</th><th title = \"Union{Missing, Float64}\" style = \"text-align: left;\">Float64?</th></tr></thead><tbody><tr class = \"dataRow\"><td class = \"rowLabel\" style = \"font-weight: bold; text-align: right;\">1</td><td style = \"text-align: left;\">------</td><td style = \"font-style: italic; text-align: right;\">missing</td><td style = \"font-style: italic; text-align: right;\">missing</td></tr><tr class = \"dataRow\"><td class = \"rowLabel\" style = \"font-weight: bold; text-align: right;\">2</td><td style = \"text-align: left;\">1993ah</td><td style = \"text-align: right;\">0.0285</td><td style = \"text-align: right;\">34.61</td></tr><tr class = \"dataRow\"><td class = \"rowLabel\" style = \"font-weight: bold; text-align: right;\">3</td><td style = \"text-align: left;\">1993ag</td><td style = \"text-align: right;\">0.05</td><td style = \"text-align: right;\">35.95</td></tr><tr class = \"dataRow\"><td class = \"rowLabel\" style = \"font-weight: bold; text-align: right;\">4</td><td style = \"text-align: left;\">1993o</td><td style = \"text-align: right;\">0.0529</td><td style = \"text-align: right;\">36.09</td></tr><tr class = \"dataRow\"><td class = \"rowLabel\" style = \"font-weight: bold; text-align: right;\">5</td><td style = \"text-align: left;\">1993b</td><td style = \"text-align: right;\">0.0701</td><td style = \"text-align: right;\">36.71</td></tr><tr class = \"dataRow\"><td class = \"rowLabel\" style = \"font-weight: bold; text-align: right;\">6</td><td style = \"text-align: left;\">1992bs</td><td style = \"text-align: right;\">0.0627</td><td style = \"text-align: right;\">36.75</td></tr><tr class = \"dataRow\"><td class = \"rowLabel\" style = \"font-weight: bold; text-align: right;\">7</td><td style = \"text-align: left;\">1992br</td><td style = \"text-align: right;\">0.0876</td><td style = \"text-align: right;\">37.5</td></tr><tr class = \"dataRow\"><td class = \"rowLabel\" style = \"font-weight: bold; text-align: right;\">8</td><td style = \"text-align: left;\">1992bp</td><td style = \"text-align: right;\">0.0786</td><td style = \"text-align: right;\">36.76</td></tr><tr class = \"dataRow\"><td class = \"rowLabel\" style = \"font-weight: bold; text-align: right;\">9</td><td style = \"text-align: left;\">1992bo</td><td style = \"text-align: right;\">0.0172</td><td style = \"text-align: right;\">33.93</td></tr><tr class = \"dataRow\"><td class = \"rowLabel\" style = \"font-weight: bold; text-align: right;\">10</td><td style = \"text-align: left;\">1992bl</td><td style = \"text-align: right;\">0.0422</td><td style = \"text-align: right;\">35.61</td></tr><tr class = \"dataRow\"><td class = \"rowLabel\" style = \"font-weight: bold; text-align: right;\">11</td><td style = \"text-align: left;\">1992bh</td><td style = \"text-align: right;\">0.0453</td><td style = \"text-align: right;\">35.91</td></tr><tr class = \"dataRow\"><td class = \"rowLabel\" style = \"font-weight: bold; text-align: right;\">12</td><td style = \"text-align: left;\">1992bg</td><td style = \"text-align: right;\">0.0365</td><td style = \"text-align: right;\">35.18</td></tr><tr class = \"dataRow\"><td class = \"rowLabel\" style = \"font-weight: bold; text-align: right;\">13</td><td style = \"text-align: left;\">1992bc</td><td style = \"text-align: right;\">0.0196</td><td style = \"text-align: right;\">33.86</td></tr><tr><td style = \"text-align: right;\">&vellip;</td><td style = \"text-align: left;\">&vellip;</td><td style = \"text-align: right;\">&vellip;</td><td style = \"text-align: right;\">&vellip;</td></tr><tr class = \"dataRow\"><td class = \"rowLabel\" style = \"font-weight: bold; text-align: right;\">710</td><td style = \"text-align: left;\">05Koe</td><td style = \"text-align: right;\">1.23</td><td style = \"text-align: right;\">43.99</td></tr><tr class = \"dataRow\"><td class = \"rowLabel\" style = \"font-weight: bold; text-align: right;\">711</td><td style = \"text-align: left;\">2003es</td><td style = \"text-align: right;\">0.954</td><td style = \"text-align: right;\">43.36</td></tr><tr class = \"dataRow\"><td class = \"rowLabel\" style = \"font-weight: bold; text-align: right;\">712</td><td style = \"text-align: left;\">04Kur</td><td style = \"text-align: right;\">0.359</td><td style = \"font-style: italic; text-align: right;\">missing</td></tr><tr class = \"dataRow\"><td class = \"rowLabel\" style = \"font-weight: bold; text-align: right;\">713</td><td style = \"text-align: left;\">05Dic</td><td style = \"text-align: right;\">0.638</td><td style = \"font-style: italic; text-align: right;\">missing</td></tr><tr class = \"dataRow\"><td class = \"rowLabel\" style = \"font-weight: bold; text-align: right;\">714</td><td style = \"text-align: left;\">2003ak</td><td style = \"text-align: right;\">1.551</td><td style = \"font-style: italic; text-align: right;\">missing</td></tr><tr class = \"dataRow\"><td class = \"rowLabel\" style = \"font-weight: bold; text-align: right;\">715</td><td style = \"text-align: left;\">2001cw</td><td style = \"text-align: right;\">0.953</td><td style = \"text-align: right;\">43.56</td></tr><tr class = \"dataRow\"><td class = \"rowLabel\" style = \"font-weight: bold; text-align: right;\">716</td><td style = \"text-align: left;\">2001gn</td><td style = \"text-align: right;\">1.124</td><td style = \"text-align: right;\">43.85</td></tr><tr class = \"dataRow\"><td class = \"rowLabel\" style = \"font-weight: bold; text-align: right;\">717</td><td style = \"text-align: left;\">2001go</td><td style = \"text-align: right;\">0.552</td><td style = \"text-align: right;\">41.8</td></tr><tr class = \"dataRow\"><td class = \"rowLabel\" style = \"font-weight: bold; text-align: right;\">718</td><td style = \"text-align: left;\">2001gq</td><td style = \"text-align: right;\">0.671</td><td style = \"text-align: right;\">42.26</td></tr><tr class = \"dataRow\"><td class = \"rowLabel\" style = \"font-weight: bold; text-align: right;\">719</td><td style = \"text-align: left;\">2001gy</td><td style = \"text-align: right;\">0.511</td><td style = \"text-align: right;\">41.66</td></tr><tr class = \"dataRow\"><td class = \"rowLabel\" style = \"font-weight: bold; text-align: right;\">720</td><td style = \"text-align: left;\">2001hb</td><td style = \"text-align: right;\">1.03</td><td style = \"text-align: right;\">43.52</td></tr><tr class = \"dataRow\"><td class = \"rowLabel\" style = \"font-weight: bold; text-align: right;\">721</td><td style = \"text-align: left;\">#END#</td><td style = \"font-style: italic; text-align: right;\">missing</td><td style = \"font-style: italic; text-align: right;\">missing</td></tr></tbody></table></div>"
      ],
      "text/latex": [
       "\\begin{tabular}{r|ccc}\n",
       "\t& name & redshift & modulus\\\\\n",
       "\t\\hline\n",
       "\t& String & Float64? & Float64?\\\\\n",
       "\t\\hline\n",
       "\t1 & ------ & \\emph{missing} & \\emph{missing} \\\\\n",
       "\t2 & 1993ah & 0.0285 & 34.61 \\\\\n",
       "\t3 & 1993ag & 0.05 & 35.95 \\\\\n",
       "\t4 & 1993o & 0.0529 & 36.09 \\\\\n",
       "\t5 & 1993b & 0.0701 & 36.71 \\\\\n",
       "\t6 & 1992bs & 0.0627 & 36.75 \\\\\n",
       "\t7 & 1992br & 0.0876 & 37.5 \\\\\n",
       "\t8 & 1992bp & 0.0786 & 36.76 \\\\\n",
       "\t9 & 1992bo & 0.0172 & 33.93 \\\\\n",
       "\t10 & 1992bl & 0.0422 & 35.61 \\\\\n",
       "\t11 & 1992bh & 0.0453 & 35.91 \\\\\n",
       "\t12 & 1992bg & 0.0365 & 35.18 \\\\\n",
       "\t13 & 1992bc & 0.0196 & 33.86 \\\\\n",
       "\t14 & 1992aq & 0.1009 & 37.73 \\\\\n",
       "\t15 & 1992al & 0.0135 & 33.1 \\\\\n",
       "\t16 & 1992ag & 0.0273 & 34.35 \\\\\n",
       "\t17 & 1992ae & 0.0746 & 36.86 \\\\\n",
       "\t18 & 1992p & 0.0265 & 34.75 \\\\\n",
       "\t19 & 1990af & 0.0499 & 35.84 \\\\\n",
       "\t20 & 1990o & 0.0306 & 34.82 \\\\\n",
       "\t21 & 1992bk & 0.0589 & 36.35 \\\\\n",
       "\t22 & 1992au & 0.0603 & 36.33 \\\\\n",
       "\t23 & 1992j & 0.0461 & 35.55 \\\\\n",
       "\t24 & 1991ag & 0.0139 & 32.88 \\\\\n",
       "\t25 & 1991u & 0.0324 & 34.62 \\\\\n",
       "\t26 & 1991s & 0.0561 & 36.17 \\\\\n",
       "\t27 & 1990y & 0.0387 & 35.17 \\\\\n",
       "\t28 & 1990t & 0.0397 & 35.38 \\\\\n",
       "\t29 & 2001cz & 0.0163 & 33.31 \\\\\n",
       "\t30 & 2001cn & 0.0154 & 33.2 \\\\\n",
       "\t$\\dots$ & $\\dots$ & $\\dots$ & $\\dots$ \\\\\n",
       "\\end{tabular}\n"
      ],
      "text/plain": [
       "\u001b[1m721×3 DataFrame\u001b[0m\n",
       "\u001b[1m Row \u001b[0m│\u001b[1m name   \u001b[0m\u001b[1m redshift     \u001b[0m\u001b[1m modulus    \u001b[0m\n",
       "\u001b[1m     \u001b[0m│\u001b[90m String \u001b[0m\u001b[90m Float64?     \u001b[0m\u001b[90m Float64?   \u001b[0m\n",
       "─────┼──────────────────────────────────\n",
       "   1 │ ------ \u001b[90m missing      \u001b[0m\u001b[90m missing    \u001b[0m\n",
       "   2 │ 1993ah        0.0285       34.61\n",
       "   3 │ 1993ag        0.05         35.95\n",
       "   4 │ 1993o         0.0529       36.09\n",
       "   5 │ 1993b         0.0701       36.71\n",
       "   6 │ 1992bs        0.0627       36.75\n",
       "   7 │ 1992br        0.0876       37.5\n",
       "   8 │ 1992bp        0.0786       36.76\n",
       "   9 │ 1992bo        0.0172       33.93\n",
       "  10 │ 1992bl        0.0422       35.61\n",
       "  11 │ 1992bh        0.0453       35.91\n",
       "  ⋮  │   ⋮          ⋮            ⋮\n",
       " 712 │ 04Kur         0.359  \u001b[90m missing    \u001b[0m\n",
       " 713 │ 05Dic         0.638  \u001b[90m missing    \u001b[0m\n",
       " 714 │ 2003ak        1.551  \u001b[90m missing    \u001b[0m\n",
       " 715 │ 2001cw        0.953        43.56\n",
       " 716 │ 2001gn        1.124        43.85\n",
       " 717 │ 2001go        0.552        41.8\n",
       " 718 │ 2001gq        0.671        42.26\n",
       " 719 │ 2001gy        0.511        41.66\n",
       " 720 │ 2001hb        1.03         43.52\n",
       " 721 │ #END#  \u001b[90m missing      \u001b[0m\u001b[90m missing    \u001b[0m\n",
       "\u001b[36m                        700 rows omitted\u001b[0m"
      ]
     },
     "execution_count": 7,
     "metadata": {},
     "output_type": "execute_result"
    }
   ],
   "source": [
    "df = CSV.read(catalog, DataFrame, skipto=38, delim=' ', ignorerepeated=true,\n",
    "              types=[String, Float64, Float64], silencewarnings=true,\n",
    "              header=[\"name\", \"redshift\", \"modulus\"],)"
   ]
  },
  {
   "cell_type": "code",
   "execution_count": 8,
   "id": "4d46910a-a269-4194-b2ff-755223ca570f",
   "metadata": {},
   "outputs": [
    {
     "data": {
      "text/html": [
       "<div><div style = \"float: left;\"><span>685×3 DataFrame</span></div><div style = \"float: right; font-style: italic;\"><span>660 rows omitted</span></div><div style = \"clear: both;\"></div></div><div class = \"data-frame\" style = \"overflow-x: scroll;\"><table class = \"data-frame\" style = \"margin-bottom: 6px;\"><thead><tr class = \"columnLabelRow\"><th class = \"stubheadLabel\" style = \"font-weight: bold; text-align: right;\">Row</th><th style = \"text-align: left;\">name</th><th style = \"text-align: left;\">redshift</th><th style = \"text-align: left;\">modulus</th></tr><tr class = \"columnLabelRow\"><th class = \"stubheadLabel\" style = \"font-weight: bold; text-align: right;\"></th><th title = \"String\" style = \"text-align: left;\">String</th><th title = \"Float64\" style = \"text-align: left;\">Float64</th><th title = \"Float64\" style = \"text-align: left;\">Float64</th></tr></thead><tbody><tr class = \"dataRow\"><td class = \"rowLabel\" style = \"font-weight: bold; text-align: right;\">1</td><td style = \"text-align: left;\">1993ah</td><td style = \"text-align: right;\">0.0285</td><td style = \"text-align: right;\">34.61</td></tr><tr class = \"dataRow\"><td class = \"rowLabel\" style = \"font-weight: bold; text-align: right;\">2</td><td style = \"text-align: left;\">1993ag</td><td style = \"text-align: right;\">0.05</td><td style = \"text-align: right;\">35.95</td></tr><tr class = \"dataRow\"><td class = \"rowLabel\" style = \"font-weight: bold; text-align: right;\">3</td><td style = \"text-align: left;\">1993o</td><td style = \"text-align: right;\">0.0529</td><td style = \"text-align: right;\">36.09</td></tr><tr class = \"dataRow\"><td class = \"rowLabel\" style = \"font-weight: bold; text-align: right;\">4</td><td style = \"text-align: left;\">1993b</td><td style = \"text-align: right;\">0.0701</td><td style = \"text-align: right;\">36.71</td></tr><tr class = \"dataRow\"><td class = \"rowLabel\" style = \"font-weight: bold; text-align: right;\">5</td><td style = \"text-align: left;\">1992bs</td><td style = \"text-align: right;\">0.0627</td><td style = \"text-align: right;\">36.75</td></tr><tr class = \"dataRow\"><td class = \"rowLabel\" style = \"font-weight: bold; text-align: right;\">6</td><td style = \"text-align: left;\">1992br</td><td style = \"text-align: right;\">0.0876</td><td style = \"text-align: right;\">37.5</td></tr><tr class = \"dataRow\"><td class = \"rowLabel\" style = \"font-weight: bold; text-align: right;\">7</td><td style = \"text-align: left;\">1992bp</td><td style = \"text-align: right;\">0.0786</td><td style = \"text-align: right;\">36.76</td></tr><tr class = \"dataRow\"><td class = \"rowLabel\" style = \"font-weight: bold; text-align: right;\">8</td><td style = \"text-align: left;\">1992bo</td><td style = \"text-align: right;\">0.0172</td><td style = \"text-align: right;\">33.93</td></tr><tr class = \"dataRow\"><td class = \"rowLabel\" style = \"font-weight: bold; text-align: right;\">9</td><td style = \"text-align: left;\">1992bl</td><td style = \"text-align: right;\">0.0422</td><td style = \"text-align: right;\">35.61</td></tr><tr class = \"dataRow\"><td class = \"rowLabel\" style = \"font-weight: bold; text-align: right;\">10</td><td style = \"text-align: left;\">1992bh</td><td style = \"text-align: right;\">0.0453</td><td style = \"text-align: right;\">35.91</td></tr><tr class = \"dataRow\"><td class = \"rowLabel\" style = \"font-weight: bold; text-align: right;\">11</td><td style = \"text-align: left;\">1992bg</td><td style = \"text-align: right;\">0.0365</td><td style = \"text-align: right;\">35.18</td></tr><tr class = \"dataRow\"><td class = \"rowLabel\" style = \"font-weight: bold; text-align: right;\">12</td><td style = \"text-align: left;\">1992bc</td><td style = \"text-align: right;\">0.0196</td><td style = \"text-align: right;\">33.86</td></tr><tr class = \"dataRow\"><td class = \"rowLabel\" style = \"font-weight: bold; text-align: right;\">13</td><td style = \"text-align: left;\">1992aq</td><td style = \"text-align: right;\">0.1009</td><td style = \"text-align: right;\">37.73</td></tr><tr><td style = \"text-align: right;\">&vellip;</td><td style = \"text-align: left;\">&vellip;</td><td style = \"text-align: right;\">&vellip;</td><td style = \"text-align: right;\">&vellip;</td></tr><tr class = \"dataRow\"><td class = \"rowLabel\" style = \"font-weight: bold; text-align: right;\">674</td><td style = \"text-align: left;\">2003eq</td><td style = \"text-align: right;\">0.84</td><td style = \"text-align: right;\">42.78</td></tr><tr class = \"dataRow\"><td class = \"rowLabel\" style = \"font-weight: bold; text-align: right;\">675</td><td style = \"text-align: left;\">2003XX</td><td style = \"text-align: right;\">0.935</td><td style = \"text-align: right;\">42.82</td></tr><tr class = \"dataRow\"><td class = \"rowLabel\" style = \"font-weight: bold; text-align: right;\">676</td><td style = \"text-align: left;\">04Haw</td><td style = \"text-align: right;\">0.49</td><td style = \"text-align: right;\">41.31</td></tr><tr class = \"dataRow\"><td class = \"rowLabel\" style = \"font-weight: bold; text-align: right;\">677</td><td style = \"text-align: left;\">04Tha</td><td style = \"text-align: right;\">0.954</td><td style = \"text-align: right;\">43.19</td></tr><tr class = \"dataRow\"><td class = \"rowLabel\" style = \"font-weight: bold; text-align: right;\">678</td><td style = \"text-align: left;\">05Koe</td><td style = \"text-align: right;\">1.23</td><td style = \"text-align: right;\">43.99</td></tr><tr class = \"dataRow\"><td class = \"rowLabel\" style = \"font-weight: bold; text-align: right;\">679</td><td style = \"text-align: left;\">2003es</td><td style = \"text-align: right;\">0.954</td><td style = \"text-align: right;\">43.36</td></tr><tr class = \"dataRow\"><td class = \"rowLabel\" style = \"font-weight: bold; text-align: right;\">680</td><td style = \"text-align: left;\">2001cw</td><td style = \"text-align: right;\">0.953</td><td style = \"text-align: right;\">43.56</td></tr><tr class = \"dataRow\"><td class = \"rowLabel\" style = \"font-weight: bold; text-align: right;\">681</td><td style = \"text-align: left;\">2001gn</td><td style = \"text-align: right;\">1.124</td><td style = \"text-align: right;\">43.85</td></tr><tr class = \"dataRow\"><td class = \"rowLabel\" style = \"font-weight: bold; text-align: right;\">682</td><td style = \"text-align: left;\">2001go</td><td style = \"text-align: right;\">0.552</td><td style = \"text-align: right;\">41.8</td></tr><tr class = \"dataRow\"><td class = \"rowLabel\" style = \"font-weight: bold; text-align: right;\">683</td><td style = \"text-align: left;\">2001gq</td><td style = \"text-align: right;\">0.671</td><td style = \"text-align: right;\">42.26</td></tr><tr class = \"dataRow\"><td class = \"rowLabel\" style = \"font-weight: bold; text-align: right;\">684</td><td style = \"text-align: left;\">2001gy</td><td style = \"text-align: right;\">0.511</td><td style = \"text-align: right;\">41.66</td></tr><tr class = \"dataRow\"><td class = \"rowLabel\" style = \"font-weight: bold; text-align: right;\">685</td><td style = \"text-align: left;\">2001hb</td><td style = \"text-align: right;\">1.03</td><td style = \"text-align: right;\">43.52</td></tr></tbody></table></div>"
      ],
      "text/latex": [
       "\\begin{tabular}{r|ccc}\n",
       "\t& name & redshift & modulus\\\\\n",
       "\t\\hline\n",
       "\t& String & Float64 & Float64\\\\\n",
       "\t\\hline\n",
       "\t1 & 1993ah & 0.0285 & 34.61 \\\\\n",
       "\t2 & 1993ag & 0.05 & 35.95 \\\\\n",
       "\t3 & 1993o & 0.0529 & 36.09 \\\\\n",
       "\t4 & 1993b & 0.0701 & 36.71 \\\\\n",
       "\t5 & 1992bs & 0.0627 & 36.75 \\\\\n",
       "\t6 & 1992br & 0.0876 & 37.5 \\\\\n",
       "\t7 & 1992bp & 0.0786 & 36.76 \\\\\n",
       "\t8 & 1992bo & 0.0172 & 33.93 \\\\\n",
       "\t9 & 1992bl & 0.0422 & 35.61 \\\\\n",
       "\t10 & 1992bh & 0.0453 & 35.91 \\\\\n",
       "\t11 & 1992bg & 0.0365 & 35.18 \\\\\n",
       "\t12 & 1992bc & 0.0196 & 33.86 \\\\\n",
       "\t13 & 1992aq & 0.1009 & 37.73 \\\\\n",
       "\t14 & 1992al & 0.0135 & 33.1 \\\\\n",
       "\t15 & 1992ag & 0.0273 & 34.35 \\\\\n",
       "\t16 & 1992ae & 0.0746 & 36.86 \\\\\n",
       "\t17 & 1992p & 0.0265 & 34.75 \\\\\n",
       "\t18 & 1990af & 0.0499 & 35.84 \\\\\n",
       "\t19 & 1990o & 0.0306 & 34.82 \\\\\n",
       "\t20 & 1992bk & 0.0589 & 36.35 \\\\\n",
       "\t21 & 1992au & 0.0603 & 36.33 \\\\\n",
       "\t22 & 1992j & 0.0461 & 35.55 \\\\\n",
       "\t23 & 1991ag & 0.0139 & 32.88 \\\\\n",
       "\t24 & 1991u & 0.0324 & 34.62 \\\\\n",
       "\t25 & 1991s & 0.0561 & 36.17 \\\\\n",
       "\t26 & 1990y & 0.0387 & 35.17 \\\\\n",
       "\t27 & 1990t & 0.0397 & 35.38 \\\\\n",
       "\t28 & 2001cz & 0.0163 & 33.31 \\\\\n",
       "\t29 & 2001cn & 0.0154 & 33.2 \\\\\n",
       "\t30 & 2001bt & 0.0144 & 33.06 \\\\\n",
       "\t$\\dots$ & $\\dots$ & $\\dots$ & $\\dots$ \\\\\n",
       "\\end{tabular}\n"
      ],
      "text/plain": [
       "\u001b[1m685×3 DataFrame\u001b[0m\n",
       "\u001b[1m Row \u001b[0m│\u001b[1m name   \u001b[0m\u001b[1m redshift \u001b[0m\u001b[1m modulus \u001b[0m\n",
       "\u001b[1m     \u001b[0m│\u001b[90m String \u001b[0m\u001b[90m Float64  \u001b[0m\u001b[90m Float64 \u001b[0m\n",
       "─────┼───────────────────────────\n",
       "   1 │ 1993ah    0.0285    34.61\n",
       "   2 │ 1993ag    0.05      35.95\n",
       "   3 │ 1993o     0.0529    36.09\n",
       "   4 │ 1993b     0.0701    36.71\n",
       "   5 │ 1992bs    0.0627    36.75\n",
       "   6 │ 1992br    0.0876    37.5\n",
       "   7 │ 1992bp    0.0786    36.76\n",
       "   8 │ 1992bo    0.0172    33.93\n",
       "   9 │ 1992bl    0.0422    35.61\n",
       "  10 │ 1992bh    0.0453    35.91\n",
       "  11 │ 1992bg    0.0365    35.18\n",
       "  ⋮  │   ⋮        ⋮         ⋮\n",
       " 676 │ 04Haw     0.49      41.31\n",
       " 677 │ 04Tha     0.954     43.19\n",
       " 678 │ 05Koe     1.23      43.99\n",
       " 679 │ 2003es    0.954     43.36\n",
       " 680 │ 2001cw    0.953     43.56\n",
       " 681 │ 2001gn    1.124     43.85\n",
       " 682 │ 2001go    0.552     41.8\n",
       " 683 │ 2001gq    0.671     42.26\n",
       " 684 │ 2001gy    0.511     41.66\n",
       " 685 │ 2001hb    1.03      43.52\n",
       "\u001b[36m                 664 rows omitted\u001b[0m"
      ]
     },
     "execution_count": 8,
     "metadata": {},
     "output_type": "execute_result"
    }
   ],
   "source": [
    "dropmissing!(df)"
   ]
  },
  {
   "cell_type": "code",
   "execution_count": 10,
   "id": "fc9000bc-4a99-482f-8e69-2a172605d470",
   "metadata": {},
   "outputs": [
    {
     "data": {
      "text/html": [
       "<div><div style = \"float: left;\"><span>213×3 DataFrame</span></div><div style = \"float: right; font-style: italic;\"><span>188 rows omitted</span></div><div style = \"clear: both;\"></div></div><div class = \"data-frame\" style = \"overflow-x: scroll;\"><table class = \"data-frame\" style = \"margin-bottom: 6px;\"><thead><tr class = \"columnLabelRow\"><th class = \"stubheadLabel\" style = \"font-weight: bold; text-align: right;\">Row</th><th style = \"text-align: left;\">name</th><th style = \"text-align: left;\">redshift</th><th style = \"text-align: left;\">modulus</th></tr><tr class = \"columnLabelRow\"><th class = \"stubheadLabel\" style = \"font-weight: bold; text-align: right;\"></th><th title = \"String\" style = \"text-align: left;\">String</th><th title = \"Float64\" style = \"text-align: left;\">Float64</th><th title = \"Float64\" style = \"text-align: left;\">Float64</th></tr></thead><tbody><tr class = \"dataRow\"><td class = \"rowLabel\" style = \"font-weight: bold; text-align: right;\">1</td><td style = \"text-align: left;\">1993ah</td><td style = \"text-align: right;\">0.0285</td><td style = \"text-align: right;\">34.61</td></tr><tr class = \"dataRow\"><td class = \"rowLabel\" style = \"font-weight: bold; text-align: right;\">2</td><td style = \"text-align: left;\">1992bo</td><td style = \"text-align: right;\">0.0172</td><td style = \"text-align: right;\">33.93</td></tr><tr class = \"dataRow\"><td class = \"rowLabel\" style = \"font-weight: bold; text-align: right;\">3</td><td style = \"text-align: left;\">1992bg</td><td style = \"text-align: right;\">0.0365</td><td style = \"text-align: right;\">35.18</td></tr><tr class = \"dataRow\"><td class = \"rowLabel\" style = \"font-weight: bold; text-align: right;\">4</td><td style = \"text-align: left;\">1992bc</td><td style = \"text-align: right;\">0.0196</td><td style = \"text-align: right;\">33.86</td></tr><tr class = \"dataRow\"><td class = \"rowLabel\" style = \"font-weight: bold; text-align: right;\">5</td><td style = \"text-align: left;\">1992al</td><td style = \"text-align: right;\">0.0135</td><td style = \"text-align: right;\">33.1</td></tr><tr class = \"dataRow\"><td class = \"rowLabel\" style = \"font-weight: bold; text-align: right;\">6</td><td style = \"text-align: left;\">1992ag</td><td style = \"text-align: right;\">0.0273</td><td style = \"text-align: right;\">34.35</td></tr><tr class = \"dataRow\"><td class = \"rowLabel\" style = \"font-weight: bold; text-align: right;\">7</td><td style = \"text-align: left;\">1992p</td><td style = \"text-align: right;\">0.0265</td><td style = \"text-align: right;\">34.75</td></tr><tr class = \"dataRow\"><td class = \"rowLabel\" style = \"font-weight: bold; text-align: right;\">8</td><td style = \"text-align: left;\">1990o</td><td style = \"text-align: right;\">0.0306</td><td style = \"text-align: right;\">34.82</td></tr><tr class = \"dataRow\"><td class = \"rowLabel\" style = \"font-weight: bold; text-align: right;\">9</td><td style = \"text-align: left;\">1991ag</td><td style = \"text-align: right;\">0.0139</td><td style = \"text-align: right;\">32.88</td></tr><tr class = \"dataRow\"><td class = \"rowLabel\" style = \"font-weight: bold; text-align: right;\">10</td><td style = \"text-align: left;\">1991u</td><td style = \"text-align: right;\">0.0324</td><td style = \"text-align: right;\">34.62</td></tr><tr class = \"dataRow\"><td class = \"rowLabel\" style = \"font-weight: bold; text-align: right;\">11</td><td style = \"text-align: left;\">1990y</td><td style = \"text-align: right;\">0.0387</td><td style = \"text-align: right;\">35.17</td></tr><tr class = \"dataRow\"><td class = \"rowLabel\" style = \"font-weight: bold; text-align: right;\">12</td><td style = \"text-align: left;\">1990t</td><td style = \"text-align: right;\">0.0397</td><td style = \"text-align: right;\">35.38</td></tr><tr class = \"dataRow\"><td class = \"rowLabel\" style = \"font-weight: bold; text-align: right;\">13</td><td style = \"text-align: left;\">2001cz</td><td style = \"text-align: right;\">0.0163</td><td style = \"text-align: right;\">33.31</td></tr><tr><td style = \"text-align: right;\">&vellip;</td><td style = \"text-align: left;\">&vellip;</td><td style = \"text-align: right;\">&vellip;</td><td style = \"text-align: right;\">&vellip;</td></tr><tr class = \"dataRow\"><td class = \"rowLabel\" style = \"font-weight: bold; text-align: right;\">202</td><td style = \"text-align: left;\">2006b</td><td style = \"text-align: right;\">0.0152</td><td style = \"text-align: right;\">33.44</td></tr><tr class = \"dataRow\"><td class = \"rowLabel\" style = \"font-weight: bold; text-align: right;\">203</td><td style = \"text-align: left;\">2006bb</td><td style = \"text-align: right;\">0.0258</td><td style = \"text-align: right;\">34.51</td></tr><tr class = \"dataRow\"><td class = \"rowLabel\" style = \"font-weight: bold; text-align: right;\">204</td><td style = \"text-align: left;\">2006bk</td><td style = \"text-align: right;\">0.0065</td><td style = \"text-align: right;\">34.72</td></tr><tr class = \"dataRow\"><td class = \"rowLabel\" style = \"font-weight: bold; text-align: right;\">205</td><td style = \"text-align: left;\">2006cg</td><td style = \"text-align: right;\">0.0289</td><td style = \"text-align: right;\">34.17</td></tr><tr class = \"dataRow\"><td class = \"rowLabel\" style = \"font-weight: bold; text-align: right;\">206</td><td style = \"text-align: left;\">2006ef</td><td style = \"text-align: right;\">0.017</td><td style = \"text-align: right;\">33.71</td></tr><tr class = \"dataRow\"><td class = \"rowLabel\" style = \"font-weight: bold; text-align: right;\">207</td><td style = \"text-align: left;\">2006eu</td><td style = \"text-align: right;\">0.0229</td><td style = \"text-align: right;\">33.92</td></tr><tr class = \"dataRow\"><td class = \"rowLabel\" style = \"font-weight: bold; text-align: right;\">208</td><td style = \"text-align: left;\">2006ev</td><td style = \"text-align: right;\">0.0276</td><td style = \"text-align: right;\">35.08</td></tr><tr class = \"dataRow\"><td class = \"rowLabel\" style = \"font-weight: bold; text-align: right;\">209</td><td style = \"text-align: left;\">2006is</td><td style = \"text-align: right;\">0.0314</td><td style = \"text-align: right;\">34.89</td></tr><tr class = \"dataRow\"><td class = \"rowLabel\" style = \"font-weight: bold; text-align: right;\">210</td><td style = \"text-align: left;\">2006mq</td><td style = \"text-align: right;\">0.004</td><td style = \"text-align: right;\">29.06</td></tr><tr class = \"dataRow\"><td class = \"rowLabel\" style = \"font-weight: bold; text-align: right;\">211</td><td style = \"text-align: left;\">2006or</td><td style = \"text-align: right;\">0.0217</td><td style = \"text-align: right;\">34.25</td></tr><tr class = \"dataRow\"><td class = \"rowLabel\" style = \"font-weight: bold; text-align: right;\">212</td><td style = \"text-align: left;\">2007ap</td><td style = \"text-align: right;\">0.0163</td><td style = \"text-align: right;\">33.64</td></tr><tr class = \"dataRow\"><td class = \"rowLabel\" style = \"font-weight: bold; text-align: right;\">213</td><td style = \"text-align: left;\">2007cg</td><td style = \"text-align: right;\">0.0342</td><td style = \"text-align: right;\">35.14</td></tr></tbody></table></div>"
      ],
      "text/latex": [
       "\\begin{tabular}{r|ccc}\n",
       "\t& name & redshift & modulus\\\\\n",
       "\t\\hline\n",
       "\t& String & Float64 & Float64\\\\\n",
       "\t\\hline\n",
       "\t1 & 1993ah & 0.0285 & 34.61 \\\\\n",
       "\t2 & 1992bo & 0.0172 & 33.93 \\\\\n",
       "\t3 & 1992bg & 0.0365 & 35.18 \\\\\n",
       "\t4 & 1992bc & 0.0196 & 33.86 \\\\\n",
       "\t5 & 1992al & 0.0135 & 33.1 \\\\\n",
       "\t6 & 1992ag & 0.0273 & 34.35 \\\\\n",
       "\t7 & 1992p & 0.0265 & 34.75 \\\\\n",
       "\t8 & 1990o & 0.0306 & 34.82 \\\\\n",
       "\t9 & 1991ag & 0.0139 & 32.88 \\\\\n",
       "\t10 & 1991u & 0.0324 & 34.62 \\\\\n",
       "\t11 & 1990y & 0.0387 & 35.17 \\\\\n",
       "\t12 & 1990t & 0.0397 & 35.38 \\\\\n",
       "\t13 & 2001cz & 0.0163 & 33.31 \\\\\n",
       "\t14 & 2001cn & 0.0154 & 33.2 \\\\\n",
       "\t15 & 2001bt & 0.0144 & 33.06 \\\\\n",
       "\t16 & 2001ba & 0.0305 & 34.87 \\\\\n",
       "\t17 & 2000ca & 0.0245 & 34.33 \\\\\n",
       "\t18 & 2000bh & 0.024 & 34.24 \\\\\n",
       "\t19 & 1999gp & 0.026 & 34.63 \\\\\n",
       "\t20 & 1999dk & 0.0139 & 33.14 \\\\\n",
       "\t21 & 1999cp & 0.0104 & 32.54 \\\\\n",
       "\t22 & 1999cl & 0.0087 & 30.35 \\\\\n",
       "\t23 & 2000ce & 0.0165 & 34.03 \\\\\n",
       "\t24 & 2000bk & 0.0266 & 34.63 \\\\\n",
       "\t25 & 1994m & 0.0243 & 34.37 \\\\\n",
       "\t26 & 1994s & 0.0152 & 33.37 \\\\\n",
       "\t27 & 1994t & 0.0357 & 35.25 \\\\\n",
       "\t28 & 1995d & 0.0065 & 31.88 \\\\\n",
       "\t29 & 1995e & 0.0117 & 33.09 \\\\\n",
       "\t30 & 1994ae & 0.0043 & 31.39 \\\\\n",
       "\t$\\dots$ & $\\dots$ & $\\dots$ & $\\dots$ \\\\\n",
       "\\end{tabular}\n"
      ],
      "text/plain": [
       "\u001b[1m213×3 DataFrame\u001b[0m\n",
       "\u001b[1m Row \u001b[0m│\u001b[1m name   \u001b[0m\u001b[1m redshift \u001b[0m\u001b[1m modulus \u001b[0m\n",
       "\u001b[1m     \u001b[0m│\u001b[90m String \u001b[0m\u001b[90m Float64  \u001b[0m\u001b[90m Float64 \u001b[0m\n",
       "─────┼───────────────────────────\n",
       "   1 │ 1993ah    0.0285    34.61\n",
       "   2 │ 1992bo    0.0172    33.93\n",
       "   3 │ 1992bg    0.0365    35.18\n",
       "   4 │ 1992bc    0.0196    33.86\n",
       "   5 │ 1992al    0.0135    33.1\n",
       "   6 │ 1992ag    0.0273    34.35\n",
       "   7 │ 1992p     0.0265    34.75\n",
       "   8 │ 1990o     0.0306    34.82\n",
       "   9 │ 1991ag    0.0139    32.88\n",
       "  10 │ 1991u     0.0324    34.62\n",
       "  11 │ 1990y     0.0387    35.17\n",
       "  ⋮  │   ⋮        ⋮         ⋮\n",
       " 204 │ 2006bk    0.0065    34.72\n",
       " 205 │ 2006cg    0.0289    34.17\n",
       " 206 │ 2006ef    0.017     33.71\n",
       " 207 │ 2006eu    0.0229    33.92\n",
       " 208 │ 2006ev    0.0276    35.08\n",
       " 209 │ 2006is    0.0314    34.89\n",
       " 210 │ 2006mq    0.004     29.06\n",
       " 211 │ 2006or    0.0217    34.25\n",
       " 212 │ 2007ap    0.0163    33.64\n",
       " 213 │ 2007cg    0.0342    35.14\n",
       "\u001b[36m                 192 rows omitted\u001b[0m"
      ]
     },
     "execution_count": 10,
     "metadata": {},
     "output_type": "execute_result"
    }
   ],
   "source": [
    "filter!(row -> row.redshift < 0.04, df)"
   ]
  },
  {
   "cell_type": "code",
   "execution_count": 15,
   "id": "2134e1d7-78c7-424a-9022-0931ac1ccebe",
   "metadata": {},
   "outputs": [
    {
     "data": {
      "text/plain": [
       "dist (generic function with 1 method)"
      ]
     },
     "execution_count": 15,
     "metadata": {},
     "output_type": "execute_result"
    }
   ],
   "source": [
    "dist(modulus) = 10.0 ^ (modulus / 5 - 5)"
   ]
  },
  {
   "cell_type": "code",
   "execution_count": 16,
   "id": "349551a0-6dbf-4cd5-b9d3-5b3fcbb386af",
   "metadata": {},
   "outputs": [
    {
     "data": {
      "text/html": [
       "<div><div style = \"float: left;\"><span>213×3 DataFrame</span></div><div style = \"float: right; font-style: italic;\"><span>188 rows omitted</span></div><div style = \"clear: both;\"></div></div><div class = \"data-frame\" style = \"overflow-x: scroll;\"><table class = \"data-frame\" style = \"margin-bottom: 6px;\"><thead><tr class = \"columnLabelRow\"><th class = \"stubheadLabel\" style = \"font-weight: bold; text-align: right;\">Row</th><th style = \"text-align: left;\">name</th><th style = \"text-align: left;\">redshift</th><th style = \"text-align: left;\">modulus</th></tr><tr class = \"columnLabelRow\"><th class = \"stubheadLabel\" style = \"font-weight: bold; text-align: right;\"></th><th title = \"String\" style = \"text-align: left;\">String</th><th title = \"Float64\" style = \"text-align: left;\">Float64</th><th title = \"Float64\" style = \"text-align: left;\">Float64</th></tr></thead><tbody><tr class = \"dataRow\"><td class = \"rowLabel\" style = \"font-weight: bold; text-align: right;\">1</td><td style = \"text-align: left;\">2006mq</td><td style = \"text-align: right;\">0.004</td><td style = \"text-align: right;\">29.06</td></tr><tr class = \"dataRow\"><td class = \"rowLabel\" style = \"font-weight: bold; text-align: right;\">2</td><td style = \"text-align: left;\">2006x</td><td style = \"text-align: right;\">0.0063</td><td style = \"text-align: right;\">30.34</td></tr><tr class = \"dataRow\"><td class = \"rowLabel\" style = \"font-weight: bold; text-align: right;\">3</td><td style = \"text-align: left;\">1999cl</td><td style = \"text-align: right;\">0.0087</td><td style = \"text-align: right;\">30.35</td></tr><tr class = \"dataRow\"><td class = \"rowLabel\" style = \"font-weight: bold; text-align: right;\">4</td><td style = \"text-align: left;\">2007sr</td><td style = \"text-align: right;\">0.0067</td><td style = \"text-align: right;\">30.92</td></tr><tr class = \"dataRow\"><td class = \"rowLabel\" style = \"font-weight: bold; text-align: right;\">5</td><td style = \"text-align: left;\">1996ai</td><td style = \"text-align: right;\">0.003</td><td style = \"text-align: right;\">30.96</td></tr><tr class = \"dataRow\"><td class = \"rowLabel\" style = \"font-weight: bold; text-align: right;\">6</td><td style = \"text-align: left;\">2003cg</td><td style = \"text-align: right;\">0.0053</td><td style = \"text-align: right;\">31.25</td></tr><tr class = \"dataRow\"><td class = \"rowLabel\" style = \"font-weight: bold; text-align: right;\">7</td><td style = \"text-align: left;\">2002bo</td><td style = \"text-align: right;\">0.0053</td><td style = \"text-align: right;\">31.29</td></tr><tr class = \"dataRow\"><td class = \"rowLabel\" style = \"font-weight: bold; text-align: right;\">8</td><td style = \"text-align: left;\">2007af</td><td style = \"text-align: right;\">0.0063</td><td style = \"text-align: right;\">31.34</td></tr><tr class = \"dataRow\"><td class = \"rowLabel\" style = \"font-weight: bold; text-align: right;\">9</td><td style = \"text-align: left;\">1996x</td><td style = \"text-align: right;\">0.007</td><td style = \"text-align: right;\">31.36</td></tr><tr class = \"dataRow\"><td class = \"rowLabel\" style = \"font-weight: bold; text-align: right;\">10</td><td style = \"text-align: left;\">1994ae</td><td style = \"text-align: right;\">0.0043</td><td style = \"text-align: right;\">31.39</td></tr><tr class = \"dataRow\"><td class = \"rowLabel\" style = \"font-weight: bold; text-align: right;\">11</td><td style = \"text-align: left;\">1995al</td><td style = \"text-align: right;\">0.005</td><td style = \"text-align: right;\">31.58</td></tr><tr class = \"dataRow\"><td class = \"rowLabel\" style = \"font-weight: bold; text-align: right;\">12</td><td style = \"text-align: left;\">2007bm</td><td style = \"text-align: right;\">0.0074</td><td style = \"text-align: right;\">31.62</td></tr><tr class = \"dataRow\"><td class = \"rowLabel\" style = \"font-weight: bold; text-align: right;\">13</td><td style = \"text-align: left;\">2005cf</td><td style = \"text-align: right;\">0.007</td><td style = \"text-align: right;\">31.63</td></tr><tr><td style = \"text-align: right;\">&vellip;</td><td style = \"text-align: left;\">&vellip;</td><td style = \"text-align: right;\">&vellip;</td><td style = \"text-align: right;\">&vellip;</td></tr><tr class = \"dataRow\"><td class = \"rowLabel\" style = \"font-weight: bold; text-align: right;\">202</td><td style = \"text-align: left;\">2005iq</td><td style = \"text-align: right;\">0.033</td><td style = \"text-align: right;\">35.26</td></tr><tr class = \"dataRow\"><td class = \"rowLabel\" style = \"font-weight: bold; text-align: right;\">203</td><td style = \"text-align: left;\">2003iv</td><td style = \"text-align: right;\">0.0336</td><td style = \"text-align: right;\">35.28</td></tr><tr class = \"dataRow\"><td class = \"rowLabel\" style = \"font-weight: bold; text-align: right;\">204</td><td style = \"text-align: left;\">2005lu</td><td style = \"text-align: right;\">0.0313</td><td style = \"text-align: right;\">35.31</td></tr><tr class = \"dataRow\"><td class = \"rowLabel\" style = \"font-weight: bold; text-align: right;\">205</td><td style = \"text-align: left;\">2006ak</td><td style = \"text-align: right;\">0.0391</td><td style = \"text-align: right;\">35.32</td></tr><tr class = \"dataRow\"><td class = \"rowLabel\" style = \"font-weight: bold; text-align: right;\">206</td><td style = \"text-align: left;\">2006cc</td><td style = \"text-align: right;\">0.0327</td><td style = \"text-align: right;\">35.35</td></tr><tr class = \"dataRow\"><td class = \"rowLabel\" style = \"font-weight: bold; text-align: right;\">207</td><td style = \"text-align: left;\">2002bz</td><td style = \"text-align: right;\">0.0378</td><td style = \"text-align: right;\">35.37</td></tr><tr class = \"dataRow\"><td class = \"rowLabel\" style = \"font-weight: bold; text-align: right;\">208</td><td style = \"text-align: left;\">1990t</td><td style = \"text-align: right;\">0.0397</td><td style = \"text-align: right;\">35.38</td></tr><tr class = \"dataRow\"><td class = \"rowLabel\" style = \"font-weight: bold; text-align: right;\">209</td><td style = \"text-align: left;\">2003ai</td><td style = \"text-align: right;\">0.0369</td><td style = \"text-align: right;\">35.38</td></tr><tr class = \"dataRow\"><td class = \"rowLabel\" style = \"font-weight: bold; text-align: right;\">210</td><td style = \"text-align: left;\">2000cf</td><td style = \"text-align: right;\">0.0365</td><td style = \"text-align: right;\">35.4</td></tr><tr class = \"dataRow\"><td class = \"rowLabel\" style = \"font-weight: bold; text-align: right;\">211</td><td style = \"text-align: left;\">2006mo</td><td style = \"text-align: right;\">0.036</td><td style = \"text-align: right;\">35.41</td></tr><tr class = \"dataRow\"><td class = \"rowLabel\" style = \"font-weight: bold; text-align: right;\">212</td><td style = \"text-align: left;\">1999ef</td><td style = \"text-align: right;\">0.038</td><td style = \"text-align: right;\">35.53</td></tr><tr class = \"dataRow\"><td class = \"rowLabel\" style = \"font-weight: bold; text-align: right;\">213</td><td style = \"text-align: left;\">1999aw</td><td style = \"text-align: right;\">0.0393</td><td style = \"text-align: right;\">35.6</td></tr></tbody></table></div>"
      ],
      "text/latex": [
       "\\begin{tabular}{r|ccc}\n",
       "\t& name & redshift & modulus\\\\\n",
       "\t\\hline\n",
       "\t& String & Float64 & Float64\\\\\n",
       "\t\\hline\n",
       "\t1 & 2006mq & 0.004 & 29.06 \\\\\n",
       "\t2 & 2006x & 0.0063 & 30.34 \\\\\n",
       "\t3 & 1999cl & 0.0087 & 30.35 \\\\\n",
       "\t4 & 2007sr & 0.0067 & 30.92 \\\\\n",
       "\t5 & 1996ai & 0.003 & 30.96 \\\\\n",
       "\t6 & 2003cg & 0.0053 & 31.25 \\\\\n",
       "\t7 & 2002bo & 0.0053 & 31.29 \\\\\n",
       "\t8 & 2007af & 0.0063 & 31.34 \\\\\n",
       "\t9 & 1996x & 0.007 & 31.36 \\\\\n",
       "\t10 & 1994ae & 0.0043 & 31.39 \\\\\n",
       "\t11 & 1995al & 0.005 & 31.58 \\\\\n",
       "\t12 & 2007bm & 0.0074 & 31.62 \\\\\n",
       "\t13 & 2005cf & 0.007 & 31.63 \\\\\n",
       "\t14 & 1996bk & 0.0066 & 31.65 \\\\\n",
       "\t15 & 2005am & 0.009 & 31.66 \\\\\n",
       "\t16 & 2002fk & 0.0066 & 31.82 \\\\\n",
       "\t17 & 2005ew & 0.0025 & 31.84 \\\\\n",
       "\t18 & 2003kf & 0.0077 & 31.85 \\\\\n",
       "\t19 & 1995d & 0.0065 & 31.88 \\\\\n",
       "\t20 & 1997bp & 0.0094 & 31.89 \\\\\n",
       "\t21 & 1998dh & 0.0077 & 31.97 \\\\\n",
       "\t22 & 1996z & 0.0086 & 31.98 \\\\\n",
       "\t23 & 2002dj & 0.0104 & 32.08 \\\\\n",
       "\t24 & 2003du & 0.0067 & 32.1 \\\\\n",
       "\t25 & 1998es & 0.0096 & 32.18 \\\\\n",
       "\t26 & 2006d & 0.0096 & 32.23 \\\\\n",
       "\t27 & 1999cw & 0.0113 & 32.25 \\\\\n",
       "\t28 & 1998dm & 0.0056 & 32.34 \\\\\n",
       "\t29 & 2004fu & 0.0087 & 32.35 \\\\\n",
       "\t30 & 1997bq & 0.0096 & 32.41 \\\\\n",
       "\t$\\dots$ & $\\dots$ & $\\dots$ & $\\dots$ \\\\\n",
       "\\end{tabular}\n"
      ],
      "text/plain": [
       "\u001b[1m213×3 DataFrame\u001b[0m\n",
       "\u001b[1m Row \u001b[0m│\u001b[1m name   \u001b[0m\u001b[1m redshift \u001b[0m\u001b[1m modulus \u001b[0m\n",
       "\u001b[1m     \u001b[0m│\u001b[90m String \u001b[0m\u001b[90m Float64  \u001b[0m\u001b[90m Float64 \u001b[0m\n",
       "─────┼───────────────────────────\n",
       "   1 │ 2006mq    0.004     29.06\n",
       "   2 │ 2006x     0.0063    30.34\n",
       "   3 │ 1999cl    0.0087    30.35\n",
       "   4 │ 2007sr    0.0067    30.92\n",
       "   5 │ 1996ai    0.003     30.96\n",
       "   6 │ 2003cg    0.0053    31.25\n",
       "   7 │ 2002bo    0.0053    31.29\n",
       "   8 │ 2007af    0.0063    31.34\n",
       "   9 │ 1996x     0.007     31.36\n",
       "  10 │ 1994ae    0.0043    31.39\n",
       "  11 │ 1995al    0.005     31.58\n",
       "  ⋮  │   ⋮        ⋮         ⋮\n",
       " 204 │ 2005lu    0.0313    35.31\n",
       " 205 │ 2006ak    0.0391    35.32\n",
       " 206 │ 2006cc    0.0327    35.35\n",
       " 207 │ 2002bz    0.0378    35.37\n",
       " 208 │ 1990t     0.0397    35.38\n",
       " 209 │ 2003ai    0.0369    35.38\n",
       " 210 │ 2000cf    0.0365    35.4\n",
       " 211 │ 2006mo    0.036     35.41\n",
       " 212 │ 1999ef    0.038     35.53\n",
       " 213 │ 1999aw    0.0393    35.6\n",
       "\u001b[36m                 192 rows omitted\u001b[0m"
      ]
     },
     "execution_count": 16,
     "metadata": {},
     "output_type": "execute_result"
    }
   ],
   "source": [
    "sort!(df, \"modulus\")"
   ]
  },
  {
   "cell_type": "code",
   "execution_count": 17,
   "id": "f1942f9d-c005-4091-9e68-c3f894ad6bd8",
   "metadata": {},
   "outputs": [],
   "source": [
    "distances = dist.(df.modulus);"
   ]
  },
  {
   "cell_type": "code",
   "execution_count": 18,
   "id": "f6d3a9ec-6e26-42e0-a2f4-df9f26c5a8ee",
   "metadata": {},
   "outputs": [
    {
     "data": {
      "image/png": "[encoded data removed]",
      "text/plain": [
       "Figure(PyObject <Figure size 640x480 with 1 Axes>)"
      ]
     },
     "metadata": {},
     "output_type": "display_data"
    }
   ],
   "source": [
    "plot(distances, df.redshift, \".\", label=\"measurements\")\n",
    "grid(true)\n",
    "legend()\n",
    "ylabel(\"Red Shift\")\n",
    "xlabel(\"Distance (Mpc)\");"
   ]
  },
  {
   "cell_type": "code",
   "execution_count": 19,
   "id": "706f5cf6-5045-4958-ae79-0bfbd2a09cf7",
   "metadata": {},
   "outputs": [
    {
     "data": {
      "text/plain": [
       "linear_regression"
      ]
     },
     "execution_count": 19,
     "metadata": {},
     "output_type": "execute_result"
    }
   ],
   "source": [
    "\n",
    "\"\"\"\n",
    "   alpha, beta, sigma = linear_regression(x, y)\n",
    "\n",
    "Least square linear regression fit y = alpha + beta * x\n",
    "Sigma is standard deviation for beta\n",
    "\"\"\"\n",
    "function linear_regression(x, y)\n",
    "    n = length(x)\n",
    "    xbar = sum(x)/n\n",
    "    ybar = sum(y)/n\n",
    "    denom = sum((x .- xbar).^2)\n",
    "    beta = sum((x .- xbar).*(y .- ybar))/denom\n",
    "    alpha = ybar - beta*xbar\n",
    "    sigma = sqrt(sum((y .- alpha .- beta*x).^2)/((n - 2)*denom))\n",
    "    return alpha, beta, sigma\n",
    "end"
   ]
  },
  {
   "cell_type": "code",
   "execution_count": 20,
   "id": "0b26259b-a79e-4c0b-99df-0e90f8d2e5c7",
   "metadata": {},
   "outputs": [
    {
     "data": {
      "text/plain": [
       "(0.0017178200333416473, 0.00029046546432479547, 7.732717671636245e-6)"
      ]
     },
     "execution_count": 20,
     "metadata": {},
     "output_type": "execute_result"
    }
   ],
   "source": [
    "alpha, beta, sigma = linear_regression(distances, df.redshift)"
   ]
  },
  {
   "cell_type": "code",
   "execution_count": 21,
   "id": "6cca634c-a58b-4008-8846-da5dc47174f0",
   "metadata": {},
   "outputs": [
    {
     "data": {
      "image/png": "[encoded data removed]",
      "text/plain": [
       "Figure(PyObject <Figure size 640x480 with 1 Axes>)"
      ]
     },
     "metadata": {},
     "output_type": "display_data"
    }
   ],
   "source": [
    "\n",
    "plot(distances, df.redshift, \".\", label=\"measurements\")\n",
    "plot(distances, alpha .+ beta*distances, label=\"LSq linear fit\")\n",
    "grid(true)\n",
    "legend()\n",
    "ylabel(\"Red Shift\")\n",
    "xlabel(\"Distance (Mpc)\");"
   ]
  },
  {
   "cell_type": "code",
   "execution_count": 22,
   "id": "661b66dc-4d8d-45f2-8f39-01d69e4f8258",
   "metadata": {},
   "outputs": [
    {
     "data": {
      "text/plain": [
       "87.14"
      ]
     },
     "execution_count": 22,
     "metadata": {},
     "output_type": "execute_result"
    }
   ],
   "source": [
    "const c = 300000.0  # speed of light, km/sec\n",
    "H0 = c * beta\n",
    "round(H0, digits=3)"
   ]
  },
  {
   "cell_type": "code",
   "execution_count": 23,
   "id": "58a7c2d0-64d5-49f6-a17b-eccbc6c114e3",
   "metadata": {},
   "outputs": [
    {
     "data": {
      "text/plain": [
       "2.319815301490874"
      ]
     },
     "execution_count": 23,
     "metadata": {},
     "output_type": "execute_result"
    }
   ],
   "source": [
    "dH0 = c * sigma"
   ]
  },
  {
   "cell_type": "code",
   "execution_count": 24,
   "id": "4edc5e2d-678b-4521-b2e2-1e83ca79062c",
   "metadata": {},
   "outputs": [
    {
     "data": {
      "text/plain": [
       "2.82e-18"
      ]
     },
     "execution_count": 24,
     "metadata": {},
     "output_type": "execute_result"
    }
   ],
   "source": [
    "\n",
    "const mpc = 3.09e19     # 1 megaparsec in km\n",
    "h0 = H0 / mpc\n",
    "round(h0, sigdigits=3)"
   ]
  },
  {
   "cell_type": "code",
   "execution_count": 25,
   "id": "4426b9d4-a330-453e-b1df-b42636608457",
   "metadata": {},
   "outputs": [
    {
     "data": {
      "text/plain": [
       "3.55e17"
      ]
     },
     "execution_count": 25,
     "metadata": {},
     "output_type": "execute_result"
    }
   ],
   "source": [
    "\n",
    "Th = 1 / h0\n",
    "round(Th, sigdigits=3)"
   ]
  },
  {
   "cell_type": "code",
   "execution_count": 30,
   "id": "11e52e83-55b6-4549-bc13-802d6b184077",
   "metadata": {},
   "outputs": [
    {
     "data": {
      "text/plain": [
       "1.124e10"
      ]
     },
     "execution_count": 30,
     "metadata": {},
     "output_type": "execute_result"
    }
   ],
   "source": [
    "round(Th/(60*60*24*365), sigdigits=4)"
   ]
  },
  {
   "cell_type": "code",
   "execution_count": null,
   "id": "81bf5009-5edf-4031-8788-945bae069d6b",
   "metadata": {},
   "outputs": [],
   "source": []
  }
 ],
 "metadata": {
  "kernelspec": {
   "display_name": "Julia 1.11.6",
   "language": "julia",
   "name": "julia-1.11"
  },
  "language_info": {
   "file_extension": ".jl",
   "mimetype": "application/julia",
   "name": "julia",
   "version": "1.11.6"
  }
 },
 "nbformat": 4,
 "nbformat_minor": 5
}
